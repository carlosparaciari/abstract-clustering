{
 "cells": [
  {
   "cell_type": "code",
   "execution_count": 30,
   "id": "abroad-trash",
   "metadata": {},
   "outputs": [],
   "source": [
    "import pandas as pd\n",
    "import numpy as np\n",
    "import matplotlib.pyplot as plt\n",
    "\n",
    "from nltk.stem import WordNetLemmatizer\n",
    "from nltk.corpus import stopwords\n",
    "\n",
    "from os.path import expanduser, join\n",
    "\n",
    "from collections import Counter\n",
    "\n",
    "import abs_tag_lib as at"
   ]
  },
  {
   "cell_type": "markdown",
   "id": "blind-sphere",
   "metadata": {},
   "source": [
    "Let's first load the metadata archive into a panda dataframe (we can do this in one go since the size of the archive is not unbearable, although we are at the limit). To deal with it otherwise, we would have to stream the json file."
   ]
  },
  {
   "cell_type": "code",
   "execution_count": 2,
   "id": "recent-realtor",
   "metadata": {},
   "outputs": [],
   "source": [
    "# path to metadata archive\n",
    "home = expanduser(\"~\")\n",
    "path_archive = join(home,'Downloads/archive.zip')\n",
    "\n",
    "# load the archive in pandas dataframe\n",
    "df = pd.read_json(path_archive,lines=True)"
   ]
  },
  {
   "cell_type": "markdown",
   "id": "referenced-sight",
   "metadata": {},
   "source": [
    "We are here interested in the high energy physics category of the arXiv, especially the theoretical one. We select the items within this category, and the columns we are interested in."
   ]
  },
  {
   "cell_type": "code",
   "execution_count": 3,
   "id": "common-reasoning",
   "metadata": {},
   "outputs": [],
   "source": [
    "# The category we are interested in and the columns we want to keep\n",
    "category = 'hep-th'\n",
    "relevant_columns = ['id','title','abstract','update_date','authors_parsed']\n",
    "\n",
    "# Cleaning up the dataframe\n",
    "relevant_items = df['categories'].apply(lambda item : category in item)\n",
    "\n",
    "df_hep = df[relevant_items][relevant_columns].copy()\n",
    "df_hep.drop_duplicates(subset='id',inplace=True)\n",
    "df_hep.reset_index(drop=True,inplace=True)\n",
    "\n",
    "# save cleaned dataframe \n",
    "df_hep.to_pickle('./dataset/dataset_hep.pkl')"
   ]
  },
  {
   "cell_type": "markdown",
   "id": "pregnant-hometown",
   "metadata": {},
   "source": [
    "## Cleaning title and abstracts\n",
    "\n"
   ]
  },
  {
   "cell_type": "code",
   "execution_count": 2,
   "id": "popular-shoot",
   "metadata": {},
   "outputs": [
    {
     "data": {
      "text/html": [
       "<div>\n",
       "<style scoped>\n",
       "    .dataframe tbody tr th:only-of-type {\n",
       "        vertical-align: middle;\n",
       "    }\n",
       "\n",
       "    .dataframe tbody tr th {\n",
       "        vertical-align: top;\n",
       "    }\n",
       "\n",
       "    .dataframe thead th {\n",
       "        text-align: right;\n",
       "    }\n",
       "</style>\n",
       "<table border=\"1\" class=\"dataframe\">\n",
       "  <thead>\n",
       "    <tr style=\"text-align: right;\">\n",
       "      <th></th>\n",
       "      <th>id</th>\n",
       "      <th>title</th>\n",
       "      <th>abstract</th>\n",
       "      <th>update_date</th>\n",
       "      <th>authors_parsed</th>\n",
       "    </tr>\n",
       "  </thead>\n",
       "  <tbody>\n",
       "    <tr>\n",
       "      <th>140495</th>\n",
       "      <td>solv-int/9912009</td>\n",
       "      <td>Quantum Lax Pair From Yang-Baxter Equations</td>\n",
       "      <td>We show explicitly how to construct the quan...</td>\n",
       "      <td>2010-11-16</td>\n",
       "      <td>[[Lima-Santos, A., ]]</td>\n",
       "    </tr>\n",
       "    <tr>\n",
       "      <th>140496</th>\n",
       "      <td>solv-int/9912010</td>\n",
       "      <td>Real forms of the complex twisted N=2 supersym...</td>\n",
       "      <td>Three nonequivalent real forms of the comple...</td>\n",
       "      <td>2017-02-08</td>\n",
       "      <td>[[Lechtenfeld, Olaf, ], [Sorin, Alexander, ]]</td>\n",
       "    </tr>\n",
       "    <tr>\n",
       "      <th>140497</th>\n",
       "      <td>solv-int/9912012</td>\n",
       "      <td>Whitham-Toda Hierarchy in the Laplacian Growth...</td>\n",
       "      <td>The Laplacian growth problem in the limit of...</td>\n",
       "      <td>2010-05-27</td>\n",
       "      <td>[[Mineev-Weinstein, Mark, ], [Zabrodin, Anton, ]]</td>\n",
       "    </tr>\n",
       "    <tr>\n",
       "      <th>140498</th>\n",
       "      <td>solv-int/9912015</td>\n",
       "      <td>Vector NLS hierarchy solitons revisited: dress...</td>\n",
       "      <td>We discuss some algebraic aspects of the int...</td>\n",
       "      <td>2007-05-23</td>\n",
       "      <td>[[Blas, Harold, ]]</td>\n",
       "    </tr>\n",
       "    <tr>\n",
       "      <th>140499</th>\n",
       "      <td>supr-con/9510001</td>\n",
       "      <td>The string model of the Cooper pair in the ani...</td>\n",
       "      <td>The analogy between the Cooper pair in high ...</td>\n",
       "      <td>2009-10-28</td>\n",
       "      <td>[[Dzhunushaliev, V. D., ]]</td>\n",
       "    </tr>\n",
       "  </tbody>\n",
       "</table>\n",
       "</div>"
      ],
      "text/plain": [
       "                      id                                              title  \\\n",
       "140495  solv-int/9912009        Quantum Lax Pair From Yang-Baxter Equations   \n",
       "140496  solv-int/9912010  Real forms of the complex twisted N=2 supersym...   \n",
       "140497  solv-int/9912012  Whitham-Toda Hierarchy in the Laplacian Growth...   \n",
       "140498  solv-int/9912015  Vector NLS hierarchy solitons revisited: dress...   \n",
       "140499  supr-con/9510001  The string model of the Cooper pair in the ani...   \n",
       "\n",
       "                                                 abstract update_date  \\\n",
       "140495    We show explicitly how to construct the quan...  2010-11-16   \n",
       "140496    Three nonequivalent real forms of the comple...  2017-02-08   \n",
       "140497    The Laplacian growth problem in the limit of...  2010-05-27   \n",
       "140498    We discuss some algebraic aspects of the int...  2007-05-23   \n",
       "140499    The analogy between the Cooper pair in high ...  2009-10-28   \n",
       "\n",
       "                                           authors_parsed  \n",
       "140495                              [[Lima-Santos, A., ]]  \n",
       "140496      [[Lechtenfeld, Olaf, ], [Sorin, Alexander, ]]  \n",
       "140497  [[Mineev-Weinstein, Mark, ], [Zabrodin, Anton, ]]  \n",
       "140498                                 [[Blas, Harold, ]]  \n",
       "140499                         [[Dzhunushaliev, V. D., ]]  "
      ]
     },
     "execution_count": 2,
     "metadata": {},
     "output_type": "execute_result"
    }
   ],
   "source": [
    "df_hep = pd.read_pickle('./dataset/dataset_hep.pkl')\n",
    "df_hep.tail()"
   ]
  },
  {
   "cell_type": "markdown",
   "id": "maritime-belly",
   "metadata": {},
   "source": [
    "We are now going to clean the abstracts and titles, that is,\n",
    "- removing latex equations\n",
    "- removing punctuation\n",
    "- setting the words in lowercase\n",
    "- remove stopwords\n",
    "- lemmatize the words"
   ]
  },
  {
   "cell_type": "code",
   "execution_count": 3,
   "id": "responsible-mention",
   "metadata": {},
   "outputs": [],
   "source": [
    "# Our choice of lemmatizer and stopwords\n",
    "wnl = WordNetLemmatizer()\n",
    "stpw = stopwords.words('english')\n",
    "\n",
    "# Cleaning the title and abstacts\n",
    "df_hep['clean_title'] = df_hep['title'].apply(at.clean_text_lemmatize,args=(wnl,stpw))\n",
    "df_hep['clean_abstract'] = df_hep['abstract'].apply(at.clean_text_lemmatize,args=(wnl,stpw))"
   ]
  },
  {
   "cell_type": "markdown",
   "id": "classified-swedish",
   "metadata": {},
   "source": [
    "Let's check what are the most common words,"
   ]
  },
  {
   "cell_type": "code",
   "execution_count": 19,
   "id": "reserved-portfolio",
   "metadata": {},
   "outputs": [
    {
     "data": {
      "text/plain": [
       "[('theory', 171243),\n",
       " ('field', 129456),\n",
       " ('model', 111266),\n",
       " ('quantum', 70959),\n",
       " ('gauge', 65488),\n",
       " ('non', 63298),\n",
       " ('space', 59049),\n",
       " ('2', 57439),\n",
       " ('string', 56244),\n",
       " ('two', 55016)]"
      ]
     },
     "execution_count": 19,
     "metadata": {},
     "output_type": "execute_result"
    }
   ],
   "source": [
    "words = np.hstack((df_hep['clean_title'],df_hep['clean_abstract']))\n",
    "words = np.concatenate(words)\n",
    "\n",
    "full_vocabulary = Counter(words)\n",
    "full_vocabulary.most_common(10)"
   ]
  },
  {
   "cell_type": "markdown",
   "id": "involved-recording",
   "metadata": {},
   "source": [
    "And the total number of unique words,"
   ]
  },
  {
   "cell_type": "code",
   "execution_count": 20,
   "id": "dried-paper",
   "metadata": {},
   "outputs": [
    {
     "data": {
      "text/plain": [
       "58271"
      ]
     },
     "execution_count": 20,
     "metadata": {},
     "output_type": "execute_result"
    }
   ],
   "source": [
    "len(full_vocabulary.keys())"
   ]
  },
  {
   "cell_type": "markdown",
   "id": "atmospheric-panama",
   "metadata": {},
   "source": [
    "We can get rid of non-frequent words in the vocabulary, since they will probably not be useful, and in this way we should reduce the size of the vocabulary (the features, since we will use TF-IDF vectorization later on)."
   ]
  },
  {
   "cell_type": "code",
   "execution_count": 23,
   "id": "combined-context",
   "metadata": {},
   "outputs": [],
   "source": [
    "# words with a count higher than min_count are kept in the vocabulary\n",
    "min_count = 5\n",
    "\n",
    "vocabulary = [word for word in full_vocabulary.keys() if full_vocabulary[word] > min_count]"
   ]
  },
  {
   "cell_type": "markdown",
   "id": "informative-jumping",
   "metadata": {},
   "source": [
    "The total number of words in the vocabulary is then,"
   ]
  },
  {
   "cell_type": "code",
   "execution_count": 25,
   "id": "honey-consultancy",
   "metadata": {},
   "outputs": [
    {
     "data": {
      "text/plain": [
       "18241"
      ]
     },
     "execution_count": 25,
     "metadata": {},
     "output_type": "execute_result"
    }
   ],
   "source": [
    "len(vocabulary)"
   ]
  },
  {
   "cell_type": "markdown",
   "id": "swiss-conspiracy",
   "metadata": {},
   "source": [
    "Let's now remove the words that are not in the vocabulary from the title and abstacts,"
   ]
  },
  {
   "cell_type": "code",
   "execution_count": 29,
   "id": "boolean-moisture",
   "metadata": {},
   "outputs": [],
   "source": [
    "in_vocabulary_words = lambda item : [word for word in item if word in vocabulary]\n",
    "\n",
    "df_hep['clean_title'] = df_hep['clean_title'].apply(in_vocabulary_words)\n",
    "df_hep['clean_abstract'] = df_hep['clean_abstract'].apply(in_vocabulary_words)"
   ]
  },
  {
   "cell_type": "markdown",
   "id": "frozen-failure",
   "metadata": {},
   "source": [
    "We can check if the transformation performed above has empited any of the titles of abstracts, and what is the distributions of lenghts,"
   ]
  },
  {
   "cell_type": "code",
   "execution_count": 40,
   "id": "subtle-stevens",
   "metadata": {},
   "outputs": [
    {
     "data": {
      "image/png": "[encoded data removed]",
      "text/plain": [
       "<Figure size 432x288 with 1 Axes>"
      ]
     },
     "metadata": {
      "needs_background": "light"
     },
     "output_type": "display_data"
    },
    {
     "name": "stdout",
     "output_type": "stream",
     "text": [
      "Range for # words in title = 0 - 29\n"
     ]
    },
    {
     "data": {
      "image/png": "[encoded data removed]",
      "text/plain": [
       "<Figure size 432x288 with 1 Axes>"
      ]
     },
     "metadata": {
      "needs_background": "light"
     },
     "output_type": "display_data"
    },
    {
     "name": "stdout",
     "output_type": "stream",
     "text": [
      "Range for # words in title = 0 - 256\n"
     ]
    }
   ],
   "source": [
    "title_lengths = df_hep['clean_title'].apply(len).to_numpy()\n",
    "abstract_lengths = df_hep['clean_abstract'].apply(len).to_numpy()\n",
    "\n",
    "plt.hist(title_lengths,bins=30,density=True)\n",
    "plt.xlabel('number of words')\n",
    "plt.ylabel('frequency')\n",
    "plt.title('Distributon of number of words per title')\n",
    "plt.show()\n",
    "\n",
    "print('Range for # words in title = {} - {}'.format(min(title_lengths),max(title_lengths)))\n",
    "\n",
    "plt.hist(abstract_lengths,bins=50,density=True)\n",
    "plt.xlabel('number of words')\n",
    "plt.ylabel('frequency')\n",
    "plt.title('Distributon of number of words per abstract')\n",
    "plt.show()\n",
    "\n",
    "print('Range for # words in title = {} - {}'.format(min(abstract_lengths),max(abstract_lengths)))"
   ]
  },
  {
   "cell_type": "markdown",
   "id": "basic-disability",
   "metadata": {},
   "source": [
    "We can get rid of those entries with a title with less that 3 words, and an abstract of less than 10 words, I think."
   ]
  },
  {
   "cell_type": "code",
   "execution_count": 47,
   "id": "roman-stockholm",
   "metadata": {},
   "outputs": [],
   "source": [
    "min_count_title = 3\n",
    "min_count_abstract = 10\n",
    "\n",
    "bool_keep = np.logical_and(title_lengths>=min_count_title, abstract_lengths>=min_count_abstract)\n",
    "df_hep = df_hep[bool_keep].reset_index(drop=True)"
   ]
  },
  {
   "cell_type": "markdown",
   "id": "expanded-audio",
   "metadata": {},
   "source": [
    "And finally save the cleaned dataset,"
   ]
  },
  {
   "cell_type": "code",
   "execution_count": 49,
   "id": "entire-nudist",
   "metadata": {},
   "outputs": [],
   "source": [
    "df_hep.to_pickle('./dataset/dataset_hep_cleaned.pkl')"
   ]
  },
  {
   "cell_type": "code",
   "execution_count": null,
   "id": "popular-compatibility",
   "metadata": {},
   "outputs": [],
   "source": [
    "## Pre-processing the "
   ]
  }
 ],
 "metadata": {
  "kernelspec": {
   "display_name": "Python [conda env:arxiv_env]",
   "language": "python",
   "name": "conda-env-arxiv_env-py"
  },
  "language_info": {
   "codemirror_mode": {
    "name": "ipython",
    "version": 3
   },
   "file_extension": ".py",
   "mimetype": "text/x-python",
   "name": "python",
   "nbconvert_exporter": "python",
   "pygments_lexer": "ipython3",
   "version": "3.7.9"
  }
 },
 "nbformat": 4,
 "nbformat_minor": 5
}
