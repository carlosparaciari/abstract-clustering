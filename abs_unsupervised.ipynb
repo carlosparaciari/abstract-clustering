{
 "cells": [
  {
   "cell_type": "code",
   "execution_count": 1,
   "id": "affected-collect",
   "metadata": {},
   "outputs": [],
   "source": [
    "import pandas as pd\n",
    "import numpy as np\n",
    "import matplotlib.pyplot as plt\n",
    "\n",
    "from scipy.sparse import save_npz, load_npz\n",
    "\n",
    "from nltk.stem import WordNetLemmatizer\n",
    "from nltk.corpus import stopwords\n",
    "\n",
    "from sklearn.feature_extraction.text import TfidfVectorizer\n",
    "\n",
    "from os.path import expanduser, join\n",
    "\n",
    "from collections import Counter\n",
    "\n",
    "import abs_tag_lib as at"
   ]
  },
  {
   "cell_type": "markdown",
   "id": "conservative-scout",
   "metadata": {},
   "source": [
    "## Obtain dataset\n",
    "\n",
    "Let's first load the metadata archive into a panda dataframe (we can do this in one go since the size of the archive is not unbearable, although we are at the limit). To deal with it otherwise, we would have to stream the json file."
   ]
  },
  {
   "cell_type": "code",
   "execution_count": 2,
   "id": "everyday-superior",
   "metadata": {},
   "outputs": [],
   "source": [
    "# path to metadata archive\n",
    "home = expanduser(\"~\")\n",
    "path_archive = join(home,'Downloads/archive.zip')\n",
    "\n",
    "# load the archive in pandas dataframe\n",
    "df = pd.read_json(path_archive,lines=True)"
   ]
  },
  {
   "cell_type": "markdown",
   "id": "convinced-kitchen",
   "metadata": {},
   "source": [
    "We are here interested in the high energy physics category of the arXiv, especially the theoretical one. We select the items within this category, and the columns we are interested in."
   ]
  },
  {
   "cell_type": "code",
   "execution_count": 3,
   "id": "broadband-maryland",
   "metadata": {},
   "outputs": [],
   "source": [
    "# The category we are interested in and the columns we want to keep\n",
    "category = 'hep-th'\n",
    "relevant_columns = ['id','title','abstract','update_date','authors_parsed']\n",
    "\n",
    "# Cleaning up the dataframe\n",
    "relevant_items = df['categories'].apply(lambda item : category in item)\n",
    "\n",
    "df_hep = df[relevant_items][relevant_columns].copy()\n",
    "df_hep.drop_duplicates(subset='id',inplace=True)\n",
    "df_hep.reset_index(drop=True,inplace=True)\n",
    "\n",
    "# save cleaned dataframe \n",
    "df_hep.to_pickle('./dataset/dataset_hep.pkl')"
   ]
  },
  {
   "cell_type": "markdown",
   "id": "attempted-homeless",
   "metadata": {},
   "source": [
    "## Cleaning title and abstracts\n",
    "\n"
   ]
  },
  {
   "cell_type": "code",
   "execution_count": 2,
   "id": "impaired-jacket",
   "metadata": {},
   "outputs": [
    {
     "data": {
      "text/html": [
       "<div>\n",
       "<style scoped>\n",
       "    .dataframe tbody tr th:only-of-type {\n",
       "        vertical-align: middle;\n",
       "    }\n",
       "\n",
       "    .dataframe tbody tr th {\n",
       "        vertical-align: top;\n",
       "    }\n",
       "\n",
       "    .dataframe thead th {\n",
       "        text-align: right;\n",
       "    }\n",
       "</style>\n",
       "<table border=\"1\" class=\"dataframe\">\n",
       "  <thead>\n",
       "    <tr style=\"text-align: right;\">\n",
       "      <th></th>\n",
       "      <th>id</th>\n",
       "      <th>title</th>\n",
       "      <th>abstract</th>\n",
       "      <th>update_date</th>\n",
       "      <th>authors_parsed</th>\n",
       "    </tr>\n",
       "  </thead>\n",
       "  <tbody>\n",
       "    <tr>\n",
       "      <th>140495</th>\n",
       "      <td>solv-int/9912009</td>\n",
       "      <td>Quantum Lax Pair From Yang-Baxter Equations</td>\n",
       "      <td>We show explicitly how to construct the quan...</td>\n",
       "      <td>2010-11-16</td>\n",
       "      <td>[[Lima-Santos, A., ]]</td>\n",
       "    </tr>\n",
       "    <tr>\n",
       "      <th>140496</th>\n",
       "      <td>solv-int/9912010</td>\n",
       "      <td>Real forms of the complex twisted N=2 supersym...</td>\n",
       "      <td>Three nonequivalent real forms of the comple...</td>\n",
       "      <td>2017-02-08</td>\n",
       "      <td>[[Lechtenfeld, Olaf, ], [Sorin, Alexander, ]]</td>\n",
       "    </tr>\n",
       "    <tr>\n",
       "      <th>140497</th>\n",
       "      <td>solv-int/9912012</td>\n",
       "      <td>Whitham-Toda Hierarchy in the Laplacian Growth...</td>\n",
       "      <td>The Laplacian growth problem in the limit of...</td>\n",
       "      <td>2010-05-27</td>\n",
       "      <td>[[Mineev-Weinstein, Mark, ], [Zabrodin, Anton, ]]</td>\n",
       "    </tr>\n",
       "    <tr>\n",
       "      <th>140498</th>\n",
       "      <td>solv-int/9912015</td>\n",
       "      <td>Vector NLS hierarchy solitons revisited: dress...</td>\n",
       "      <td>We discuss some algebraic aspects of the int...</td>\n",
       "      <td>2007-05-23</td>\n",
       "      <td>[[Blas, Harold, ]]</td>\n",
       "    </tr>\n",
       "    <tr>\n",
       "      <th>140499</th>\n",
       "      <td>supr-con/9510001</td>\n",
       "      <td>The string model of the Cooper pair in the ani...</td>\n",
       "      <td>The analogy between the Cooper pair in high ...</td>\n",
       "      <td>2009-10-28</td>\n",
       "      <td>[[Dzhunushaliev, V. D., ]]</td>\n",
       "    </tr>\n",
       "  </tbody>\n",
       "</table>\n",
       "</div>"
      ],
      "text/plain": [
       "                      id                                              title  \\\n",
       "140495  solv-int/9912009        Quantum Lax Pair From Yang-Baxter Equations   \n",
       "140496  solv-int/9912010  Real forms of the complex twisted N=2 supersym...   \n",
       "140497  solv-int/9912012  Whitham-Toda Hierarchy in the Laplacian Growth...   \n",
       "140498  solv-int/9912015  Vector NLS hierarchy solitons revisited: dress...   \n",
       "140499  supr-con/9510001  The string model of the Cooper pair in the ani...   \n",
       "\n",
       "                                                 abstract update_date  \\\n",
       "140495    We show explicitly how to construct the quan...  2010-11-16   \n",
       "140496    Three nonequivalent real forms of the comple...  2017-02-08   \n",
       "140497    The Laplacian growth problem in the limit of...  2010-05-27   \n",
       "140498    We discuss some algebraic aspects of the int...  2007-05-23   \n",
       "140499    The analogy between the Cooper pair in high ...  2009-10-28   \n",
       "\n",
       "                                           authors_parsed  \n",
       "140495                              [[Lima-Santos, A., ]]  \n",
       "140496      [[Lechtenfeld, Olaf, ], [Sorin, Alexander, ]]  \n",
       "140497  [[Mineev-Weinstein, Mark, ], [Zabrodin, Anton, ]]  \n",
       "140498                                 [[Blas, Harold, ]]  \n",
       "140499                         [[Dzhunushaliev, V. D., ]]  "
      ]
     },
     "execution_count": 2,
     "metadata": {},
     "output_type": "execute_result"
    }
   ],
   "source": [
    "df_hep = pd.read_pickle('./dataset/dataset_hep.pkl')\n",
    "df_hep.tail()"
   ]
  },
  {
   "cell_type": "markdown",
   "id": "tropical-elite",
   "metadata": {},
   "source": [
    "We are now going to clean the abstracts and titles, that is,\n",
    "- removing latex equations\n",
    "- removing punctuation\n",
    "- setting the words in lowercase\n",
    "- remove stopwords\n",
    "- lemmatize the words"
   ]
  },
  {
   "cell_type": "code",
   "execution_count": 3,
   "id": "spread-electron",
   "metadata": {},
   "outputs": [],
   "source": [
    "# Our choice of lemmatizer and stopwords\n",
    "wnl = WordNetLemmatizer()\n",
    "stpw = stopwords.words('english')\n",
    "\n",
    "# Cleaning the title and abstacts\n",
    "df_hep['clean_title'] = df_hep['title'].apply(at.clean_text_lemmatize,args=(wnl,stpw))\n",
    "df_hep['clean_abstract'] = df_hep['abstract'].apply(at.clean_text_lemmatize,args=(wnl,stpw))"
   ]
  },
  {
   "cell_type": "markdown",
   "id": "noble-kenya",
   "metadata": {},
   "source": [
    "Let's check what are the most common words,"
   ]
  },
  {
   "cell_type": "code",
   "execution_count": 19,
   "id": "scientific-mobile",
   "metadata": {},
   "outputs": [
    {
     "data": {
      "text/plain": [
       "[('theory', 171243),\n",
       " ('field', 129456),\n",
       " ('model', 111266),\n",
       " ('quantum', 70959),\n",
       " ('gauge', 65488),\n",
       " ('non', 63298),\n",
       " ('space', 59049),\n",
       " ('2', 57439),\n",
       " ('string', 56244),\n",
       " ('two', 55016)]"
      ]
     },
     "execution_count": 19,
     "metadata": {},
     "output_type": "execute_result"
    }
   ],
   "source": [
    "words = np.hstack((df_hep['clean_title'],df_hep['clean_abstract']))\n",
    "words = np.concatenate(words)\n",
    "\n",
    "full_vocabulary = Counter(words)\n",
    "full_vocabulary.most_common(10)"
   ]
  },
  {
   "cell_type": "markdown",
   "id": "elect-interference",
   "metadata": {},
   "source": [
    "And the total number of unique words,"
   ]
  },
  {
   "cell_type": "code",
   "execution_count": 20,
   "id": "empty-closer",
   "metadata": {},
   "outputs": [
    {
     "data": {
      "text/plain": [
       "58271"
      ]
     },
     "execution_count": 20,
     "metadata": {},
     "output_type": "execute_result"
    }
   ],
   "source": [
    "len(full_vocabulary.keys())"
   ]
  },
  {
   "cell_type": "markdown",
   "id": "celtic-blair",
   "metadata": {},
   "source": [
    "We can get rid of non-frequent words in the vocabulary, since they will probably not be useful, and in this way we should reduce the size of the vocabulary (the features, since we will use TF-IDF vectorization later on)."
   ]
  },
  {
   "cell_type": "code",
   "execution_count": 23,
   "id": "connected-protection",
   "metadata": {},
   "outputs": [],
   "source": [
    "# words with a count higher than min_count are kept in the vocabulary\n",
    "min_count = 5\n",
    "\n",
    "vocabulary = [word for word in full_vocabulary.keys() if full_vocabulary[word] > min_count]"
   ]
  },
  {
   "cell_type": "markdown",
   "id": "vietnamese-monroe",
   "metadata": {},
   "source": [
    "The total number of words in the vocabulary is then,"
   ]
  },
  {
   "cell_type": "code",
   "execution_count": 25,
   "id": "amino-throat",
   "metadata": {},
   "outputs": [
    {
     "data": {
      "text/plain": [
       "18241"
      ]
     },
     "execution_count": 25,
     "metadata": {},
     "output_type": "execute_result"
    }
   ],
   "source": [
    "len(vocabulary)"
   ]
  },
  {
   "cell_type": "markdown",
   "id": "promotional-twins",
   "metadata": {},
   "source": [
    "Let's now remove the words that are not in the vocabulary from the title and abstacts,"
   ]
  },
  {
   "cell_type": "code",
   "execution_count": 29,
   "id": "asian-favor",
   "metadata": {},
   "outputs": [],
   "source": [
    "in_vocabulary_words = lambda item : [word for word in item if word in vocabulary]\n",
    "\n",
    "df_hep['clean_title'] = df_hep['clean_title'].apply(in_vocabulary_words)\n",
    "df_hep['clean_abstract'] = df_hep['clean_abstract'].apply(in_vocabulary_words)"
   ]
  },
  {
   "cell_type": "markdown",
   "id": "patent-iraqi",
   "metadata": {},
   "source": [
    "We can check if the transformation performed above has empited any of the titles of abstracts, and what is the distributions of lenghts,"
   ]
  },
  {
   "cell_type": "code",
   "execution_count": 52,
   "id": "electoral-command",
   "metadata": {},
   "outputs": [
    {
     "data": {
      "image/png": "[encoded data removed]",
      "text/plain": [
       "<Figure size 432x288 with 1 Axes>"
      ]
     },
     "metadata": {
      "needs_background": "light"
     },
     "output_type": "display_data"
    },
    {
     "name": "stdout",
     "output_type": "stream",
     "text": [
      "Range for # words in title = 3 - 29\n"
     ]
    },
    {
     "data": {
      "image/png": "[encoded data removed]",
      "text/plain": [
       "<Figure size 432x288 with 1 Axes>"
      ]
     },
     "metadata": {
      "needs_background": "light"
     },
     "output_type": "display_data"
    },
    {
     "name": "stdout",
     "output_type": "stream",
     "text": [
      "Range for # words in abstract = 10 - 256\n"
     ]
    }
   ],
   "source": [
    "title_lengths = df_hep['clean_title'].apply(len).to_numpy()\n",
    "abstract_lengths = df_hep['clean_abstract'].apply(len).to_numpy()\n",
    "\n",
    "plt.hist(title_lengths,bins=27,density=True)\n",
    "plt.xlabel('number of words')\n",
    "plt.ylabel('frequency')\n",
    "plt.title('Distributon of number of words per title')\n",
    "plt.show()\n",
    "\n",
    "print('Range for # words in title = {} - {}'.format(min(title_lengths),\n",
    "                                                    max(title_lengths)\n",
    "                                                   )\n",
    "     )\n",
    "\n",
    "plt.hist(abstract_lengths,bins=50,density=True)\n",
    "plt.xlabel('number of words')\n",
    "plt.ylabel('frequency')\n",
    "plt.title('Distributon of number of words per abstract')\n",
    "plt.show()\n",
    "\n",
    "print('Range for # words in abstract = {} - {}'.format(min(abstract_lengths),\n",
    "                                                       max(abstract_lengths)\n",
    "                                                      )\n",
    "     )"
   ]
  },
  {
   "cell_type": "markdown",
   "id": "going-vessel",
   "metadata": {},
   "source": [
    "We can get rid of those entries with a title with less that 3 words, and an abstract of less than 10 words, I think."
   ]
  },
  {
   "cell_type": "code",
   "execution_count": 47,
   "id": "modular-vitamin",
   "metadata": {},
   "outputs": [],
   "source": [
    "min_count_title = 3\n",
    "min_count_abstract = 10\n",
    "\n",
    "bool_keep = np.logical_and(title_lengths>=min_count_title, abstract_lengths>=min_count_abstract)\n",
    "df_hep = df_hep[bool_keep].reset_index(drop=True)"
   ]
  },
  {
   "cell_type": "markdown",
   "id": "genuine-austin",
   "metadata": {},
   "source": [
    "And finally save the cleaned dataset,"
   ]
  },
  {
   "cell_type": "code",
   "execution_count": 49,
   "id": "satisfactory-expression",
   "metadata": {},
   "outputs": [],
   "source": [
    "df_hep.to_pickle('./dataset/dataset_hep_cleaned.pkl')"
   ]
  },
  {
   "cell_type": "markdown",
   "id": "other-rogers",
   "metadata": {},
   "source": [
    "## Pre-processing title and abstracts\n",
    "\n",
    "We can now pre-process the data. We are going to apply TF-IDF on the joint title and abstract."
   ]
  },
  {
   "cell_type": "code",
   "execution_count": 30,
   "id": "peripheral-gilbert",
   "metadata": {},
   "outputs": [
    {
     "data": {
      "text/html": [
       "<div>\n",
       "<style scoped>\n",
       "    .dataframe tbody tr th:only-of-type {\n",
       "        vertical-align: middle;\n",
       "    }\n",
       "\n",
       "    .dataframe tbody tr th {\n",
       "        vertical-align: top;\n",
       "    }\n",
       "\n",
       "    .dataframe thead th {\n",
       "        text-align: right;\n",
       "    }\n",
       "</style>\n",
       "<table border=\"1\" class=\"dataframe\">\n",
       "  <thead>\n",
       "    <tr style=\"text-align: right;\">\n",
       "      <th></th>\n",
       "      <th>id</th>\n",
       "      <th>title</th>\n",
       "      <th>abstract</th>\n",
       "      <th>update_date</th>\n",
       "      <th>authors_parsed</th>\n",
       "      <th>clean_title</th>\n",
       "      <th>clean_abstract</th>\n",
       "    </tr>\n",
       "  </thead>\n",
       "  <tbody>\n",
       "    <tr>\n",
       "      <th>137383</th>\n",
       "      <td>solv-int/9912009</td>\n",
       "      <td>Quantum Lax Pair From Yang-Baxter Equations</td>\n",
       "      <td>We show explicitly how to construct the quan...</td>\n",
       "      <td>2010-11-16</td>\n",
       "      <td>[[Lima-Santos, A., ]]</td>\n",
       "      <td>[quantum, lax, pair, yang, baxter, equation]</td>\n",
       "      <td>[show, explicitly, construct, quantum, lax, pa...</td>\n",
       "    </tr>\n",
       "    <tr>\n",
       "      <th>137384</th>\n",
       "      <td>solv-int/9912010</td>\n",
       "      <td>Real forms of the complex twisted N=2 supersym...</td>\n",
       "      <td>Three nonequivalent real forms of the comple...</td>\n",
       "      <td>2017-02-08</td>\n",
       "      <td>[[Lechtenfeld, Olaf, ], [Sorin, Alexander, ]]</td>\n",
       "      <td>[real, form, complex, twisted, n, 2, supersymm...</td>\n",
       "      <td>[three, nonequivalent, real, form, complex, tw...</td>\n",
       "    </tr>\n",
       "    <tr>\n",
       "      <th>137385</th>\n",
       "      <td>solv-int/9912012</td>\n",
       "      <td>Whitham-Toda Hierarchy in the Laplacian Growth...</td>\n",
       "      <td>The Laplacian growth problem in the limit of...</td>\n",
       "      <td>2010-05-27</td>\n",
       "      <td>[[Mineev-Weinstein, Mark, ], [Zabrodin, Anton, ]]</td>\n",
       "      <td>[whitham, toda, hierarchy, laplacian, growth, ...</td>\n",
       "      <td>[laplacian, growth, problem, limit, zero, surf...</td>\n",
       "    </tr>\n",
       "    <tr>\n",
       "      <th>137386</th>\n",
       "      <td>solv-int/9912015</td>\n",
       "      <td>Vector NLS hierarchy solitons revisited: dress...</td>\n",
       "      <td>We discuss some algebraic aspects of the int...</td>\n",
       "      <td>2007-05-23</td>\n",
       "      <td>[[Blas, Harold, ]]</td>\n",
       "      <td>[vector, nls, hierarchy, soliton, revisited, d...</td>\n",
       "      <td>[discus, algebraic, aspect, integrable, vector...</td>\n",
       "    </tr>\n",
       "    <tr>\n",
       "      <th>137387</th>\n",
       "      <td>supr-con/9510001</td>\n",
       "      <td>The string model of the Cooper pair in the ani...</td>\n",
       "      <td>The analogy between the Cooper pair in high ...</td>\n",
       "      <td>2009-10-28</td>\n",
       "      <td>[[Dzhunushaliev, V. D., ]]</td>\n",
       "      <td>[string, model, cooper, pair, anisotropic, sup...</td>\n",
       "      <td>[analogy, cooper, pair, high, temperature, sup...</td>\n",
       "    </tr>\n",
       "  </tbody>\n",
       "</table>\n",
       "</div>"
      ],
      "text/plain": [
       "                      id                                              title  \\\n",
       "137383  solv-int/9912009        Quantum Lax Pair From Yang-Baxter Equations   \n",
       "137384  solv-int/9912010  Real forms of the complex twisted N=2 supersym...   \n",
       "137385  solv-int/9912012  Whitham-Toda Hierarchy in the Laplacian Growth...   \n",
       "137386  solv-int/9912015  Vector NLS hierarchy solitons revisited: dress...   \n",
       "137387  supr-con/9510001  The string model of the Cooper pair in the ani...   \n",
       "\n",
       "                                                 abstract update_date  \\\n",
       "137383    We show explicitly how to construct the quan...  2010-11-16   \n",
       "137384    Three nonequivalent real forms of the comple...  2017-02-08   \n",
       "137385    The Laplacian growth problem in the limit of...  2010-05-27   \n",
       "137386    We discuss some algebraic aspects of the int...  2007-05-23   \n",
       "137387    The analogy between the Cooper pair in high ...  2009-10-28   \n",
       "\n",
       "                                           authors_parsed  \\\n",
       "137383                              [[Lima-Santos, A., ]]   \n",
       "137384      [[Lechtenfeld, Olaf, ], [Sorin, Alexander, ]]   \n",
       "137385  [[Mineev-Weinstein, Mark, ], [Zabrodin, Anton, ]]   \n",
       "137386                                 [[Blas, Harold, ]]   \n",
       "137387                         [[Dzhunushaliev, V. D., ]]   \n",
       "\n",
       "                                              clean_title  \\\n",
       "137383       [quantum, lax, pair, yang, baxter, equation]   \n",
       "137384  [real, form, complex, twisted, n, 2, supersymm...   \n",
       "137385  [whitham, toda, hierarchy, laplacian, growth, ...   \n",
       "137386  [vector, nls, hierarchy, soliton, revisited, d...   \n",
       "137387  [string, model, cooper, pair, anisotropic, sup...   \n",
       "\n",
       "                                           clean_abstract  \n",
       "137383  [show, explicitly, construct, quantum, lax, pa...  \n",
       "137384  [three, nonequivalent, real, form, complex, tw...  \n",
       "137385  [laplacian, growth, problem, limit, zero, surf...  \n",
       "137386  [discus, algebraic, aspect, integrable, vector...  \n",
       "137387  [analogy, cooper, pair, high, temperature, sup...  "
      ]
     },
     "execution_count": 30,
     "metadata": {},
     "output_type": "execute_result"
    }
   ],
   "source": [
    "df_hep = pd.read_pickle('./dataset/dataset_hep_cleaned.pkl')\n",
    "df_hep.tail()"
   ]
  },
  {
   "cell_type": "code",
   "execution_count": 34,
   "id": "lasting-discovery",
   "metadata": {},
   "outputs": [
    {
     "name": "stdout",
     "output_type": "stream",
     "text": [
      "The dataset is composed of 137388 observations and 18238 features\n"
     ]
    }
   ],
   "source": [
    "full_corpus = (df_hep['clean_title']+df_hep['clean_abstract']).to_numpy()\n",
    "\n",
    "# This is needed since we did all the pre-processing outside sklearn\n",
    "tokens_to_string = np.vectorize(lambda word_list: ' '.join(word_list))\n",
    "\n",
    "full_corpus = tokens_to_string(full_corpus)\n",
    "\n",
    "# Let's create the vectorized matrix (while splitting the corpus back into tokens)\n",
    "vectorizer = TfidfVectorizer(analyzer=str.split)\n",
    "X = vectorizer.fit_transform(full_corpus)\n",
    "\n",
    "features = np.array(vectorizer.get_feature_names())\n",
    "\n",
    "print('The dataset is composed of {} observations and {} features'.format(*X.shape))"
   ]
  },
  {
   "cell_type": "code",
   "execution_count": 37,
   "id": "magnetic-transition",
   "metadata": {
    "scrolled": true
   },
   "outputs": [],
   "source": [
    "save_npz('./dataset/vectorized/X',X)\n",
    "np.save('./dataset/vectorized/features',features)"
   ]
  },
  {
   "cell_type": "markdown",
   "id": "brief-august",
   "metadata": {},
   "source": [
    "## Visualizing the data distribution\n",
    "\n",
    "Before we start clustering, we'd be interested in checking if the data can indeed be divided into clear clusters. Since checking this in the vectors space we have embedded the features is not possible, we use Multi-Dimensional Scaling (the distance between entries is computed in the high-dimensional vector space, and the items are then represented in 2D while preserving the distance).\n",
    "\n",
    "Since the number of items we have is too big for computing the similarity matrix and storing it, we sample part of the dataset and use MDS on this subset."
   ]
  },
  {
   "cell_type": "code",
   "execution_count": 38,
   "id": "adapted-tonight",
   "metadata": {},
   "outputs": [],
   "source": [
    "X = load_npz('./dataset/vectorized/X.npz')\n",
    "features = np.load('./dataset/vectorized/features.npy',allow_pickle=True)"
   ]
  },
  {
   "cell_type": "markdown",
   "id": "general-thanksgiving",
   "metadata": {},
   "source": [
    "Let's visualize different subsets of X randomly sampled,"
   ]
  },
  {
   "cell_type": "code",
   "execution_count": 22,
   "id": "willing-server",
   "metadata": {},
   "outputs": [],
   "source": [
    "from numpy.random import default_rng\n",
    "from sklearn.metrics import pairwise_distances\n",
    "from sklearn.manifold import MDS\n",
    "\n",
    "N,_ = X.shape\n",
    "M = 1000\n",
    "\n",
    "rng = default_rng(seed=8362)\n",
    "\n",
    "index = rng.choice(N,size=M, replace=False)\n",
    "sub_X = X[index]"
   ]
  },
  {
   "cell_type": "code",
   "execution_count": 23,
   "id": "brazilian-avatar",
   "metadata": {},
   "outputs": [],
   "source": [
    "mds = MDS(n_components=2, n_init=4, n_jobs=-1, dissimilarity='precomputed')\n",
    "\n",
    "dist = pairwise_distances(sub_X,metric='cosine',n_jobs=-1)\n",
    "sub_X_2D = mds.fit_transform(dist)"
   ]
  },
  {
   "cell_type": "code",
   "execution_count": 24,
   "id": "decimal-hypothetical",
   "metadata": {},
   "outputs": [
    {
     "data": {
      "text/plain": [
       "<matplotlib.collections.PathCollection at 0x2678ed34d48>"
      ]
     },
     "execution_count": 24,
     "metadata": {},
     "output_type": "execute_result"
    },
    {
     "data": {
      "image/png": "[encoded data removed]",
      "text/plain": [
       "<Figure size 432x288 with 1 Axes>"
      ]
     },
     "metadata": {
      "needs_background": "light"
     },
     "output_type": "display_data"
    }
   ],
   "source": [
    "plt.scatter(*sub_X_2D.T)"
   ]
  },
  {
   "cell_type": "markdown",
   "id": "advanced-duration",
   "metadata": {},
   "source": [
    "## Clustering"
   ]
  },
  {
   "cell_type": "code",
   "execution_count": 25,
   "id": "based-bernard",
   "metadata": {},
   "outputs": [],
   "source": [
    "N,_ = X.shape\n",
    "M = 10000\n",
    "\n",
    "rng = default_rng(seed=8362)\n",
    "\n",
    "index = rng.choice(N,size=M, replace=False)\n",
    "X = X[index]"
   ]
  },
  {
   "cell_type": "code",
   "execution_count": 26,
   "id": "multiple-hostel",
   "metadata": {},
   "outputs": [
    {
     "data": {
      "text/plain": [
       "array([[6.94909757e-03, 0.00000000e+00, 2.16360687e-04, ...,\n",
       "        0.00000000e+00, 0.00000000e+00, 0.00000000e+00],\n",
       "       [1.37110902e-03, 0.00000000e+00, 0.00000000e+00, ...,\n",
       "        0.00000000e+00, 0.00000000e+00, 0.00000000e+00],\n",
       "       [3.52332246e-03, 0.00000000e+00, 0.00000000e+00, ...,\n",
       "        0.00000000e+00, 4.51832761e-05, 3.41651474e-05],\n",
       "       ...,\n",
       "       [1.39674903e-02, 0.00000000e+00, 0.00000000e+00, ...,\n",
       "        0.00000000e+00, 0.00000000e+00, 0.00000000e+00],\n",
       "       [4.49816291e-03, 0.00000000e+00, 0.00000000e+00, ...,\n",
       "        0.00000000e+00, 0.00000000e+00, 0.00000000e+00],\n",
       "       [3.38611462e-03, 0.00000000e+00, 0.00000000e+00, ...,\n",
       "        0.00000000e+00, 0.00000000e+00, 1.02437400e-03]])"
      ]
     },
     "execution_count": 26,
     "metadata": {},
     "output_type": "execute_result"
    }
   ],
   "source": [
    "from sklearn.cluster import KMeans\n",
    "\n",
    "kmeans = KMeans(n_clusters=10, random_state=1836)\n",
    "kmeans.fit(X)"
   ]
  },
  {
   "cell_type": "code",
   "execution_count": 36,
   "id": "driving-graphic",
   "metadata": {},
   "outputs": [
    {
     "name": "stdout",
     "output_type": "stream",
     "text": [
      "[('inflation', 0.0769735761365939), ('model', 0.05763860188137659), ('dark', 0.05737140385573432), ('cosmological', 0.055680032252376), ('universe', 0.048485676654242395), ('scalar', 0.04476996882534064), ('field', 0.04451675281403921), ('energy', 0.04273399233442572), ('matter', 0.04039472140824373), ('scale', 0.03808468274854896)]\n",
      "[('quantum', 0.15679619386902358), ('theory', 0.04311678446128473), ('gravity', 0.04224062431269942), ('field', 0.04045520571810873), ('classical', 0.0356128415540427), ('state', 0.031098940712660447), ('mechanic', 0.029161725297792238), ('space', 0.028977539206211857), ('system', 0.026776741663884704), ('time', 0.02547466034129284)]\n",
      "[('model', 0.03228458605664048), ('theory', 0.02502768225388959), ('equation', 0.02402726104578675), ('field', 0.02381539928751184), ('function', 0.022094667773819972), ('solution', 0.021609916484819545), ('space', 0.019061868499279464), ('two', 0.01826098900922106), ('dimensional', 0.016980963887252606), ('non', 0.016436965206430874)]\n",
      "[('phase', 0.08862088123878706), ('qcd', 0.07243234697140112), ('transition', 0.064879706906143), ('temperature', 0.056115537450011334), ('quark', 0.052157602841959), ('chiral', 0.045025949097061084), ('model', 0.041441202770218406), ('magnetic', 0.03164873513135875), ('potential', 0.03011958191450671), ('field', 0.029506283960382677)]\n",
      "[('black', 0.21857913285064454), ('hole', 0.21137906423003983), ('horizon', 0.06212766838923903), ('solution', 0.04449003109881269), ('entropy', 0.04220694748160326), ('gravity', 0.030729357868434462), ('extremal', 0.026199866217429753), ('dimensional', 0.02557372069139781), ('hawking', 0.024770663743220296), ('rotating', 0.023542565366638752)]\n",
      "[('algebra', 0.20249375453156174), ('lie', 0.046368348613783035), ('representation', 0.04167349340549347), ('operator', 0.036997465576961874), ('group', 0.03492912293913858), ('theory', 0.03316758046028725), ('space', 0.032484221262262615), ('symmetry', 0.029956349823321484), ('quantum', 0.029128224554377528), ('field', 0.025870212990142923)]\n",
      "[('string', 0.16178526249045705), ('theory', 0.06504808949312678), ('branes', 0.05875724217433156), ('brane', 0.052531349934109184), ('field', 0.032960293520897244), ('solution', 0.030363734775148258), ('open', 0.030189761433913075), ('type', 0.028636678692520182), ('duality', 0.027288821691630282), ('background', 0.027121239440242296)]\n",
      "[('n', 0.19137514024810584), ('2', 0.08866092434766039), ('1', 0.06867506266034529), ('theory', 0.060642090911054755), ('4', 0.05844644800586928), ('supersymmetric', 0.04202285161857097), ('su', 0.03884368014700781), ('gauge', 0.032624713236741924), ('3', 0.03234008194992127), ('supergravity', 0.030627718873174378)]\n",
      "[('gauge', 0.13049011161532123), ('theory', 0.09146070090449955), ('field', 0.06552128306320622), ('symmetry', 0.036328476561450246), ('abelian', 0.03151629038106299), ('yang', 0.030472180672891543), ('mill', 0.03018026651882218), ('non', 0.029753789327286794), ('invariant', 0.0283561589124659), ('action', 0.028083962413312714)]\n",
      "[('boundary', 0.1321245342557925), ('entropy', 0.07975256290490987), ('entanglement', 0.07039411028190284), ('ad', 0.04728907404239916), ('bulk', 0.04695471376267734), ('cft', 0.044936031331200735), ('condition', 0.04449057630514274), ('holographic', 0.04050516622317425), ('field', 0.03669459735160599), ('conformal', 0.0362019274722668)]\n"
     ]
    }
   ],
   "source": [
    "for cluster in kmeans.cluster_centers_:\n",
    "    relevant_features = cluster != 0\n",
    "    \n",
    "    cluster_features = features[relevant_features]\n",
    "    cluster_importance = cluster[relevant_features]\n",
    "    \n",
    "    cluster_character = sorted(zip(cluster_features,cluster_importance),key=lambda x: x[1],reverse=True)\n",
    "    \n",
    "    print(cluster_character[:10])"
   ]
  },
  {
   "cell_type": "code",
   "execution_count": null,
   "id": "apparent-vault",
   "metadata": {},
   "outputs": [],
   "source": []
  }
 ],
 "metadata": {
  "kernelspec": {
   "display_name": "Python [conda env:arxiv_env]",
   "language": "python",
   "name": "conda-env-arxiv_env-py"
  },
  "language_info": {
   "codemirror_mode": {
    "name": "ipython",
    "version": 3
   },
   "file_extension": ".py",
   "mimetype": "text/x-python",
   "name": "python",
   "nbconvert_exporter": "python",
   "pygments_lexer": "ipython3",
   "version": "3.7.9"
  }
 },
 "nbformat": 4,
 "nbformat_minor": 5
}
