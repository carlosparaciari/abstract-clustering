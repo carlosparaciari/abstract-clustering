{
 "cells": [
  {
   "cell_type": "code",
   "execution_count": 5,
   "id": "dedicated-protection",
   "metadata": {},
   "outputs": [],
   "source": [
    "import pandas as pd\n",
    "import numpy as np\n",
    "import matplotlib.pyplot as plt\n",
    "\n",
    "from numpy.random import default_rng\n",
    "\n",
    "from scipy.sparse import save_npz, load_npz\n",
    "from scipy.cluster.hierarchy import dendrogram\n",
    "\n",
    "from nltk.stem import WordNetLemmatizer\n",
    "from nltk.corpus import stopwords\n",
    "\n",
    "from sklearn.feature_extraction.text import TfidfVectorizer\n",
    "\n",
    "from sklearn.metrics import pairwise_distances\n",
    "from sklearn.metrics.pairwise import rbf_kernel\n",
    "\n",
    "from sklearn.manifold import MDS\n",
    "\n",
    "from sklearn.cluster import KMeans, AgglomerativeClustering, SpectralClustering\n",
    "\n",
    "from os.path import expanduser, join\n",
    "\n",
    "from collections import Counter\n",
    "\n",
    "import abs_tag_lib as at"
   ]
  },
  {
   "cell_type": "markdown",
   "id": "invisible-auction",
   "metadata": {},
   "source": [
    "## Obtain dataset\n",
    "\n",
    "Let's first load the metadata archive into a panda dataframe (we can do this in one go since the size of the archive is not unbearable, although we are at the limit). To deal with it otherwise, we would have to stream the json file."
   ]
  },
  {
   "cell_type": "code",
   "execution_count": 19,
   "id": "known-payday",
   "metadata": {},
   "outputs": [],
   "source": [
    "# path to metadata archive\n",
    "home = expanduser(\"~\")\n",
    "path_archive = join(home,'Downloads/archive.zip')\n",
    "\n",
    "# load the archive in pandas dataframe\n",
    "df = pd.read_json(path_archive,lines=True)"
   ]
  },
  {
   "cell_type": "markdown",
   "id": "convenient-trail",
   "metadata": {},
   "source": [
    "We are here interested in the high energy physics category of the arXiv, especially the theoretical one. We select the items within this category, and the columns we are interested in."
   ]
  },
  {
   "cell_type": "code",
   "execution_count": 21,
   "id": "ecological-sentence",
   "metadata": {},
   "outputs": [],
   "source": [
    "# The category and year we are interested in\n",
    "category = 'hep-th'\n",
    "year = 2015\n",
    "\n",
    "# The relevant columns for us\n",
    "relevant_columns = ['id','title','abstract','update_date','authors_parsed']\n",
    "\n",
    "# Select papers according to category\n",
    "relevant_items = df['categories'].apply(lambda item : category in item)\n",
    "df_hep = df[relevant_items][relevant_columns].copy()\n",
    "df_hep.drop_duplicates(subset='id',inplace=True)\n",
    "\n",
    "# Select papers according to year\n",
    "df_hep['update_date'] = df_hep['update_date'].astype(dtype='datetime64[ns]')\n",
    "relevant_years = df_hep['update_date'].dt.year == year\n",
    "df_hep = df_hep[relevant_years]\n",
    "\n",
    "df_hep.reset_index(drop=True,inplace=True)\n",
    "\n",
    "# save cleaned dataframe \n",
    "df_hep.to_pickle('./dataset/dataset_hep.pkl')"
   ]
  },
  {
   "cell_type": "markdown",
   "id": "analyzed-front",
   "metadata": {},
   "source": [
    "## Cleaning title and abstracts\n",
    "\n"
   ]
  },
  {
   "cell_type": "code",
   "execution_count": 22,
   "id": "capable-athens",
   "metadata": {},
   "outputs": [
    {
     "data": {
      "text/html": [
       "<div>\n",
       "<style scoped>\n",
       "    .dataframe tbody tr th:only-of-type {\n",
       "        vertical-align: middle;\n",
       "    }\n",
       "\n",
       "    .dataframe tbody tr th {\n",
       "        vertical-align: top;\n",
       "    }\n",
       "\n",
       "    .dataframe thead th {\n",
       "        text-align: right;\n",
       "    }\n",
       "</style>\n",
       "<table border=\"1\" class=\"dataframe\">\n",
       "  <thead>\n",
       "    <tr style=\"text-align: right;\">\n",
       "      <th></th>\n",
       "      <th>id</th>\n",
       "      <th>title</th>\n",
       "      <th>abstract</th>\n",
       "      <th>update_date</th>\n",
       "      <th>authors_parsed</th>\n",
       "    </tr>\n",
       "  </thead>\n",
       "  <tbody>\n",
       "    <tr>\n",
       "      <th>17121</th>\n",
       "      <td>solv-int/9701021</td>\n",
       "      <td>Is the classical Bukhvostov-Lipatov model inte...</td>\n",
       "      <td>In this work we apply the Weiss, Tabor and C...</td>\n",
       "      <td>2015-06-26</td>\n",
       "      <td>[[Ameduri, Marco, ], [Efthimiou, Costas J., ]]</td>\n",
       "    </tr>\n",
       "    <tr>\n",
       "      <th>17122</th>\n",
       "      <td>solv-int/9804005</td>\n",
       "      <td>On the relation between orthogonal, symplectic...</td>\n",
       "      <td>For the unitary ensembles of $N\\times N$ Her...</td>\n",
       "      <td>2015-06-26</td>\n",
       "      <td>[[Widom, Harold, , University of California, S...</td>\n",
       "    </tr>\n",
       "    <tr>\n",
       "      <th>17123</th>\n",
       "      <td>solv-int/9807008</td>\n",
       "      <td>Separation of Variables in the Elliptic Gaudin...</td>\n",
       "      <td>For the elliptic Gaudin model (a degenerate ...</td>\n",
       "      <td>2015-11-13</td>\n",
       "      <td>[[Sklyanin, Evgueni K., ], [Takebe, Takashi, ]]</td>\n",
       "    </tr>\n",
       "    <tr>\n",
       "      <th>17124</th>\n",
       "      <td>solv-int/9907021</td>\n",
       "      <td>Supersymmetric KP hierarchy in N=1 superspace ...</td>\n",
       "      <td>A wide class of N=2 reductions of the supers...</td>\n",
       "      <td>2015-06-26</td>\n",
       "      <td>[[Lechtenfeld, Olaf, ], [Sorin, Alexander, ]]</td>\n",
       "    </tr>\n",
       "    <tr>\n",
       "      <th>17125</th>\n",
       "      <td>solv-int/9910010</td>\n",
       "      <td>Schlesinger transformations for elliptic isomo...</td>\n",
       "      <td>Schlesinger transformations are discrete mon...</td>\n",
       "      <td>2015-06-26</td>\n",
       "      <td>[[Korotkin, D., ], [Manojlovic, N., ], [Samtle...</td>\n",
       "    </tr>\n",
       "  </tbody>\n",
       "</table>\n",
       "</div>"
      ],
      "text/plain": [
       "                     id                                              title  \\\n",
       "17121  solv-int/9701021  Is the classical Bukhvostov-Lipatov model inte...   \n",
       "17122  solv-int/9804005  On the relation between orthogonal, symplectic...   \n",
       "17123  solv-int/9807008  Separation of Variables in the Elliptic Gaudin...   \n",
       "17124  solv-int/9907021  Supersymmetric KP hierarchy in N=1 superspace ...   \n",
       "17125  solv-int/9910010  Schlesinger transformations for elliptic isomo...   \n",
       "\n",
       "                                                abstract update_date  \\\n",
       "17121    In this work we apply the Weiss, Tabor and C...  2015-06-26   \n",
       "17122    For the unitary ensembles of $N\\times N$ Her...  2015-06-26   \n",
       "17123    For the elliptic Gaudin model (a degenerate ...  2015-11-13   \n",
       "17124    A wide class of N=2 reductions of the supers...  2015-06-26   \n",
       "17125    Schlesinger transformations are discrete mon...  2015-06-26   \n",
       "\n",
       "                                          authors_parsed  \n",
       "17121     [[Ameduri, Marco, ], [Efthimiou, Costas J., ]]  \n",
       "17122  [[Widom, Harold, , University of California, S...  \n",
       "17123    [[Sklyanin, Evgueni K., ], [Takebe, Takashi, ]]  \n",
       "17124      [[Lechtenfeld, Olaf, ], [Sorin, Alexander, ]]  \n",
       "17125  [[Korotkin, D., ], [Manojlovic, N., ], [Samtle...  "
      ]
     },
     "execution_count": 22,
     "metadata": {},
     "output_type": "execute_result"
    }
   ],
   "source": [
    "df_hep = pd.read_pickle('./dataset/dataset_hep.pkl')\n",
    "df_hep.tail()"
   ]
  },
  {
   "cell_type": "markdown",
   "id": "civilian-default",
   "metadata": {},
   "source": [
    "We are now going to clean the abstracts and titles, that is,\n",
    "- removing latex equations\n",
    "- removing punctuation\n",
    "- setting the words in lowercase\n",
    "- remove stopwords\n",
    "- lemmatize the words"
   ]
  },
  {
   "cell_type": "code",
   "execution_count": 23,
   "id": "innocent-buying",
   "metadata": {},
   "outputs": [],
   "source": [
    "# Our choice of lemmatizer and stopwords\n",
    "wnl = WordNetLemmatizer()\n",
    "stpw = stopwords.words('english')\n",
    "\n",
    "# Cleaning the title and abstacts\n",
    "df_hep['clean_title'] = df_hep['title'].apply(at.clean_text_lemmatize,args=(wnl,stpw))\n",
    "df_hep['clean_abstract'] = df_hep['abstract'].apply(at.clean_text_lemmatize,args=(wnl,stpw))"
   ]
  },
  {
   "cell_type": "markdown",
   "id": "authorized-silicon",
   "metadata": {},
   "source": [
    "Let's check what are the most common words,"
   ]
  },
  {
   "cell_type": "code",
   "execution_count": 24,
   "id": "constitutional-thickness",
   "metadata": {},
   "outputs": [
    {
     "data": {
      "text/plain": [
       "[('theory', 20578),\n",
       " ('field', 16263),\n",
       " ('model', 14170),\n",
       " ('non', 8183),\n",
       " ('quantum', 8005),\n",
       " ('gauge', 7785),\n",
       " ('2', 7633),\n",
       " ('n', 7539),\n",
       " ('space', 7133),\n",
       " ('two', 6926)]"
      ]
     },
     "execution_count": 24,
     "metadata": {},
     "output_type": "execute_result"
    }
   ],
   "source": [
    "words = np.hstack((df_hep['clean_title'],df_hep['clean_abstract']))\n",
    "words = np.concatenate(words)\n",
    "\n",
    "full_vocabulary = Counter(words)\n",
    "full_vocabulary.most_common(10)"
   ]
  },
  {
   "cell_type": "markdown",
   "id": "appointed-season",
   "metadata": {},
   "source": [
    "And the total number of unique words,"
   ]
  },
  {
   "cell_type": "code",
   "execution_count": 25,
   "id": "racial-little",
   "metadata": {},
   "outputs": [
    {
     "data": {
      "text/plain": [
       "20944"
      ]
     },
     "execution_count": 25,
     "metadata": {},
     "output_type": "execute_result"
    }
   ],
   "source": [
    "len(full_vocabulary.keys())"
   ]
  },
  {
   "cell_type": "markdown",
   "id": "psychological-insured",
   "metadata": {},
   "source": [
    "We can get rid of non-frequent words in the vocabulary, since they will probably not be useful, and in this way we should reduce the size of the vocabulary (the features, since we will use TF-IDF vectorization later on)."
   ]
  },
  {
   "cell_type": "code",
   "execution_count": 36,
   "id": "aboriginal-cotton",
   "metadata": {},
   "outputs": [],
   "source": [
    "# words with a count higher than min_count are kept in the vocabulary\n",
    "min_count = 5\n",
    "\n",
    "vocabulary = [word for word in full_vocabulary.keys() if full_vocabulary[word] > min_count]"
   ]
  },
  {
   "cell_type": "markdown",
   "id": "identical-percentage",
   "metadata": {},
   "source": [
    "The total number of words in the vocabulary is then,"
   ]
  },
  {
   "cell_type": "code",
   "execution_count": 37,
   "id": "hundred-brake",
   "metadata": {},
   "outputs": [
    {
     "data": {
      "text/plain": [
       "7715"
      ]
     },
     "execution_count": 37,
     "metadata": {},
     "output_type": "execute_result"
    }
   ],
   "source": [
    "len(vocabulary)"
   ]
  },
  {
   "cell_type": "markdown",
   "id": "owned-calculator",
   "metadata": {},
   "source": [
    "Let's now remove the words that are not in the vocabulary from the title and abstacts,"
   ]
  },
  {
   "cell_type": "code",
   "execution_count": 38,
   "id": "stretch-reward",
   "metadata": {},
   "outputs": [],
   "source": [
    "in_vocabulary_words = lambda item : [word for word in item if word in vocabulary]\n",
    "\n",
    "df_hep['clean_title'] = df_hep['clean_title'].apply(in_vocabulary_words)\n",
    "df_hep['clean_abstract'] = df_hep['clean_abstract'].apply(in_vocabulary_words)"
   ]
  },
  {
   "cell_type": "markdown",
   "id": "maritime-heather",
   "metadata": {},
   "source": [
    "We can check if the transformation performed above has empited any of the titles of abstracts, and what is the distributions of lenghts,"
   ]
  },
  {
   "cell_type": "code",
   "execution_count": 39,
   "id": "small-foster",
   "metadata": {},
   "outputs": [
    {
     "data": {
      "image/png": "[encoded data removed]",
      "text/plain": [
       "<Figure size 432x288 with 1 Axes>"
      ]
     },
     "metadata": {
      "needs_background": "light"
     },
     "output_type": "display_data"
    },
    {
     "name": "stdout",
     "output_type": "stream",
     "text": [
      "Range for # words in title = 0 - 27\n"
     ]
    },
    {
     "data": {
      "image/png": "[encoded data removed]",
      "text/plain": [
       "<Figure size 432x288 with 1 Axes>"
      ]
     },
     "metadata": {
      "needs_background": "light"
     },
     "output_type": "display_data"
    },
    {
     "name": "stdout",
     "output_type": "stream",
     "text": [
      "Range for # words in abstract = 1 - 249\n"
     ]
    }
   ],
   "source": [
    "title_lengths = df_hep['clean_title'].apply(len).to_numpy()\n",
    "abstract_lengths = df_hep['clean_abstract'].apply(len).to_numpy()\n",
    "\n",
    "plt.hist(title_lengths,bins=27,density=True)\n",
    "plt.xlabel('number of words')\n",
    "plt.ylabel('frequency')\n",
    "plt.title('Distributon of number of words per title')\n",
    "plt.show()\n",
    "\n",
    "print('Range for # words in title = {} - {}'.format(min(title_lengths),\n",
    "                                                    max(title_lengths)\n",
    "                                                   )\n",
    "     )\n",
    "\n",
    "plt.hist(abstract_lengths,bins=50,density=True)\n",
    "plt.xlabel('number of words')\n",
    "plt.ylabel('frequency')\n",
    "plt.title('Distributon of number of words per abstract')\n",
    "plt.show()\n",
    "\n",
    "print('Range for # words in abstract = {} - {}'.format(min(abstract_lengths),\n",
    "                                                       max(abstract_lengths)\n",
    "                                                      )\n",
    "     )"
   ]
  },
  {
   "cell_type": "markdown",
   "id": "tight-armstrong",
   "metadata": {},
   "source": [
    "We can get rid of those entries with a title with less that 3 words, and an abstract of less than 10 words, I think."
   ]
  },
  {
   "cell_type": "code",
   "execution_count": 40,
   "id": "spoken-valuation",
   "metadata": {},
   "outputs": [],
   "source": [
    "min_count_title = 3\n",
    "min_count_abstract = 10\n",
    "\n",
    "bool_keep = np.logical_and(title_lengths>=min_count_title, abstract_lengths>=min_count_abstract)\n",
    "df_hep = df_hep[bool_keep].reset_index(drop=True)"
   ]
  },
  {
   "cell_type": "markdown",
   "id": "organic-fortune",
   "metadata": {},
   "source": [
    "And finally save the cleaned dataset,"
   ]
  },
  {
   "cell_type": "code",
   "execution_count": 41,
   "id": "sufficient-centre",
   "metadata": {},
   "outputs": [],
   "source": [
    "df_hep.to_pickle('./dataset/dataset_hep_cleaned.pkl')"
   ]
  },
  {
   "cell_type": "markdown",
   "id": "abroad-bundle",
   "metadata": {},
   "source": [
    "## Pre-processing title and abstracts\n",
    "\n",
    "We can now pre-process the data. We are going to apply TF-IDF on the joint title and abstract."
   ]
  },
  {
   "cell_type": "code",
   "execution_count": 25,
   "id": "moral-census",
   "metadata": {},
   "outputs": [
    {
     "data": {
      "text/html": [
       "<div>\n",
       "<style scoped>\n",
       "    .dataframe tbody tr th:only-of-type {\n",
       "        vertical-align: middle;\n",
       "    }\n",
       "\n",
       "    .dataframe tbody tr th {\n",
       "        vertical-align: top;\n",
       "    }\n",
       "\n",
       "    .dataframe thead th {\n",
       "        text-align: right;\n",
       "    }\n",
       "</style>\n",
       "<table border=\"1\" class=\"dataframe\">\n",
       "  <thead>\n",
       "    <tr style=\"text-align: right;\">\n",
       "      <th></th>\n",
       "      <th>id</th>\n",
       "      <th>title</th>\n",
       "      <th>abstract</th>\n",
       "      <th>update_date</th>\n",
       "      <th>authors_parsed</th>\n",
       "      <th>clean_title</th>\n",
       "      <th>clean_abstract</th>\n",
       "    </tr>\n",
       "  </thead>\n",
       "  <tbody>\n",
       "    <tr>\n",
       "      <th>16668</th>\n",
       "      <td>solv-int/9701021</td>\n",
       "      <td>Is the classical Bukhvostov-Lipatov model inte...</td>\n",
       "      <td>In this work we apply the Weiss, Tabor and C...</td>\n",
       "      <td>2015-06-26</td>\n",
       "      <td>[[Ameduri, Marco, ], [Efthimiou, Costas J., ]]</td>\n",
       "      <td>[classical, lipatov, model, integrable, painle...</td>\n",
       "      <td>[work, apply, wei, integrability, criterion, p...</td>\n",
       "    </tr>\n",
       "    <tr>\n",
       "      <th>16669</th>\n",
       "      <td>solv-int/9804005</td>\n",
       "      <td>On the relation between orthogonal, symplectic...</td>\n",
       "      <td>For the unitary ensembles of $N\\times N$ Her...</td>\n",
       "      <td>2015-06-26</td>\n",
       "      <td>[[Widom, Harold, , University of California, S...</td>\n",
       "      <td>[relation, orthogonal, symplectic, unitary, ma...</td>\n",
       "      <td>[unitary, ensemble, hermitian, matrix, associa...</td>\n",
       "    </tr>\n",
       "    <tr>\n",
       "      <th>16670</th>\n",
       "      <td>solv-int/9807008</td>\n",
       "      <td>Separation of Variables in the Elliptic Gaudin...</td>\n",
       "      <td>For the elliptic Gaudin model (a degenerate ...</td>\n",
       "      <td>2015-11-13</td>\n",
       "      <td>[[Sklyanin, Evgueni K., ], [Takebe, Takashi, ]]</td>\n",
       "      <td>[separation, variable, elliptic, gaudin, model]</td>\n",
       "      <td>[elliptic, gaudin, model, degenerate, case, xy...</td>\n",
       "    </tr>\n",
       "    <tr>\n",
       "      <th>16671</th>\n",
       "      <td>solv-int/9907021</td>\n",
       "      <td>Supersymmetric KP hierarchy in N=1 superspace ...</td>\n",
       "      <td>A wide class of N=2 reductions of the supers...</td>\n",
       "      <td>2015-06-26</td>\n",
       "      <td>[[Lechtenfeld, Olaf, ], [Sorin, Alexander, ]]</td>\n",
       "      <td>[supersymmetric, kp, hierarchy, n, 1, superspa...</td>\n",
       "      <td>[wide, class, n, 2, reduction, supersymmetric,...</td>\n",
       "    </tr>\n",
       "    <tr>\n",
       "      <th>16672</th>\n",
       "      <td>solv-int/9910010</td>\n",
       "      <td>Schlesinger transformations for elliptic isomo...</td>\n",
       "      <td>Schlesinger transformations are discrete mon...</td>\n",
       "      <td>2015-06-26</td>\n",
       "      <td>[[Korotkin, D., ], [Manojlovic, N., ], [Samtle...</td>\n",
       "      <td>[schlesinger, transformation, elliptic, isomon...</td>\n",
       "      <td>[schlesinger, transformation, discrete, monodr...</td>\n",
       "    </tr>\n",
       "  </tbody>\n",
       "</table>\n",
       "</div>"
      ],
      "text/plain": [
       "                     id                                              title  \\\n",
       "16668  solv-int/9701021  Is the classical Bukhvostov-Lipatov model inte...   \n",
       "16669  solv-int/9804005  On the relation between orthogonal, symplectic...   \n",
       "16670  solv-int/9807008  Separation of Variables in the Elliptic Gaudin...   \n",
       "16671  solv-int/9907021  Supersymmetric KP hierarchy in N=1 superspace ...   \n",
       "16672  solv-int/9910010  Schlesinger transformations for elliptic isomo...   \n",
       "\n",
       "                                                abstract update_date  \\\n",
       "16668    In this work we apply the Weiss, Tabor and C...  2015-06-26   \n",
       "16669    For the unitary ensembles of $N\\times N$ Her...  2015-06-26   \n",
       "16670    For the elliptic Gaudin model (a degenerate ...  2015-11-13   \n",
       "16671    A wide class of N=2 reductions of the supers...  2015-06-26   \n",
       "16672    Schlesinger transformations are discrete mon...  2015-06-26   \n",
       "\n",
       "                                          authors_parsed  \\\n",
       "16668     [[Ameduri, Marco, ], [Efthimiou, Costas J., ]]   \n",
       "16669  [[Widom, Harold, , University of California, S...   \n",
       "16670    [[Sklyanin, Evgueni K., ], [Takebe, Takashi, ]]   \n",
       "16671      [[Lechtenfeld, Olaf, ], [Sorin, Alexander, ]]   \n",
       "16672  [[Korotkin, D., ], [Manojlovic, N., ], [Samtle...   \n",
       "\n",
       "                                             clean_title  \\\n",
       "16668  [classical, lipatov, model, integrable, painle...   \n",
       "16669  [relation, orthogonal, symplectic, unitary, ma...   \n",
       "16670    [separation, variable, elliptic, gaudin, model]   \n",
       "16671  [supersymmetric, kp, hierarchy, n, 1, superspa...   \n",
       "16672  [schlesinger, transformation, elliptic, isomon...   \n",
       "\n",
       "                                          clean_abstract  \n",
       "16668  [work, apply, wei, integrability, criterion, p...  \n",
       "16669  [unitary, ensemble, hermitian, matrix, associa...  \n",
       "16670  [elliptic, gaudin, model, degenerate, case, xy...  \n",
       "16671  [wide, class, n, 2, reduction, supersymmetric,...  \n",
       "16672  [schlesinger, transformation, discrete, monodr...  "
      ]
     },
     "execution_count": 25,
     "metadata": {},
     "output_type": "execute_result"
    }
   ],
   "source": [
    "df_hep = pd.read_pickle('./dataset/dataset_hep_cleaned.pkl')\n",
    "df_hep.tail()"
   ]
  },
  {
   "cell_type": "code",
   "execution_count": 43,
   "id": "parallel-andrew",
   "metadata": {},
   "outputs": [
    {
     "name": "stdout",
     "output_type": "stream",
     "text": [
      "The dataset is composed of 16673 observations and 7712 features\n"
     ]
    }
   ],
   "source": [
    "full_corpus = (df_hep['clean_title']+df_hep['clean_abstract']).to_numpy()\n",
    "\n",
    "# This is needed since we did all the pre-processing outside sklearn\n",
    "tokens_to_string = np.vectorize(lambda word_list: ' '.join(word_list))\n",
    "\n",
    "full_corpus = tokens_to_string(full_corpus)\n",
    "\n",
    "# Let's create the vectorized matrix (while splitting the corpus back into tokens)\n",
    "vectorizer = TfidfVectorizer(analyzer=str.split)\n",
    "X = vectorizer.fit_transform(full_corpus)\n",
    "\n",
    "features = np.array(vectorizer.get_feature_names())\n",
    "\n",
    "print('The dataset is composed of {} observations and {} features'.format(*X.shape))"
   ]
  },
  {
   "cell_type": "code",
   "execution_count": 44,
   "id": "bored-crack",
   "metadata": {
    "scrolled": true
   },
   "outputs": [],
   "source": [
    "save_npz('./dataset/vectorized/X',X)\n",
    "np.save('./dataset/vectorized/features',features)"
   ]
  },
  {
   "cell_type": "markdown",
   "id": "maritime-campbell",
   "metadata": {},
   "source": [
    "## Visualizing the data distribution\n",
    "\n",
    "Before we start clustering, we'd be interested in checking if the data can indeed be divided into clear clusters. Since checking this in the vectors space we have embedded the features is not possible, we use Multi-Dimensional Scaling (the distance between entries is computed in the high-dimensional vector space, and the items are then represented in 2D while preserving the distance).\n",
    "\n",
    "Since the number of items we have is too big for computing the similarity matrix and storing it, we sample part of the dataset and use MDS on this subset."
   ]
  },
  {
   "cell_type": "code",
   "execution_count": 2,
   "id": "married-pathology",
   "metadata": {},
   "outputs": [],
   "source": [
    "X = load_npz('./dataset/vectorized/X.npz')\n",
    "features = np.load('./dataset/vectorized/features.npy',allow_pickle=True)"
   ]
  },
  {
   "cell_type": "markdown",
   "id": "robust-pointer",
   "metadata": {},
   "source": [
    "Let's visualize a subset of X randomly sampled,"
   ]
  },
  {
   "cell_type": "code",
   "execution_count": 21,
   "id": "twelve-combine",
   "metadata": {},
   "outputs": [
    {
     "data": {
      "image/png": "[encoded data removed]",
      "text/plain": [
       "<Figure size 432x288 with 1 Axes>"
      ]
     },
     "metadata": {
      "needs_background": "light"
     },
     "output_type": "display_data"
    }
   ],
   "source": [
    "N,_ = X.shape\n",
    "M = 1000\n",
    "\n",
    "# Let's sample M items from the dataset, and perform MDS on them\n",
    "rng = default_rng(seed=8362)\n",
    "index = rng.choice(N,size=M, replace=False)\n",
    "sub_X = X[index]\n",
    "\n",
    "# Let instatiate the multi-dimensional scaling method (we plot the items in 2 dimensions)\n",
    "mds = MDS(n_components=2,\n",
    "          n_init=10,\n",
    "          n_jobs=-1,\n",
    "          dissimilarity='precomputed'\n",
    "         )\n",
    "\n",
    "# We compute the distance between items usign cosine similarity\n",
    "dist = pairwise_distances(sub_X,metric='cosine',n_jobs=-1)\n",
    "\n",
    "# We fit the data and represent the items in 2 dimension\n",
    "sub_X_2D = mds.fit_transform(dist)\n",
    "\n",
    "# Finally, we plot the items\n",
    "plt.scatter(*sub_X_2D.T)\n",
    "plt.show()"
   ]
  },
  {
   "cell_type": "markdown",
   "id": "later-magnitude",
   "metadata": {},
   "source": [
    "From the MDS, it is difficult to see any clusters, really. Other techniques we could use include PCA, but it require the matrix to be dense, and this would be difficult here."
   ]
  },
  {
   "cell_type": "markdown",
   "id": "organizational-negative",
   "metadata": {},
   "source": [
    "## Clustering"
   ]
  },
  {
   "cell_type": "markdown",
   "id": "communist-dakota",
   "metadata": {},
   "source": [
    "## K-means\n",
    "\n",
    "We start using K-means, which groups observations into K clusters, using their euclidian distance from the centre of the cluster. This algorithm minimize the within-point scatter,\n",
    "\n",
    "$W(K) = \\sum_{k=1}^K \\sum_{i,j \\in C_k} \\| x_i - x_j \\|_2$\n",
    "\n",
    "In what follow, we use the above measure to estimate the optimal number of clusters for the dataset. An heuristic way to do this is to check the curve of whitin-point scatter as the number of clusters increase, and select the optimal number where an elbow can be seen.\n",
    "\n",
    "Another technique to identify the optimal number of clusters is the gap statistics, but we do not implement it here."
   ]
  },
  {
   "cell_type": "code",
   "execution_count": 25,
   "id": "administrative-cornell",
   "metadata": {},
   "outputs": [],
   "source": [
    "# The max number of clusters and repeated fits to use\n",
    "M = 20\n",
    "K = 10\n",
    "\n",
    "wps_mean = []\n",
    "wps_std_err = []\n",
    "\n",
    "for m in range(1,M+1):\n",
    "    \n",
    "    wps = []\n",
    "    \n",
    "    for _ in range(K):\n",
    "        \n",
    "        # Fir K-means with m clusters\n",
    "        kmeans = KMeans(n_clusters=m)\n",
    "        kmeans.fit(X)\n",
    "        \n",
    "        # Compute the within-point scatter\n",
    "        wps.append(at.within_point_scatter(X,kmeans.labels_,kmeans.cluster_centers_))\n",
    "\n",
    "    wps_mean.append(np.mean(wps))\n",
    "    wps_std_err.append(np.std(wps)/np.sqrt(K))"
   ]
  },
  {
   "cell_type": "markdown",
   "id": "substantial-standard",
   "metadata": {},
   "source": [
    "Let's visualize the within point scatter,"
   ]
  },
  {
   "cell_type": "code",
   "execution_count": 14,
   "id": "nominated-omega",
   "metadata": {},
   "outputs": [
    {
     "data": {
      "image/png": "[encoded data removed]",
      "text/plain": [
       "<Figure size 432x288 with 1 Axes>"
      ]
     },
     "metadata": {
      "needs_background": "light"
     },
     "output_type": "display_data"
    }
   ],
   "source": [
    "cluster_numbers = np.arange(1,M+1)\n",
    "\n",
    "plt.errorbar(cluster_numbers,wps_mean,yerr=wps_std_err)\n",
    "plt.xticks(cluster_numbers)\n",
    "plt.xlabel('number of clusters')\n",
    "plt.ylabel('within-point scatter')\n",
    "plt.show()"
   ]
  },
  {
   "cell_type": "markdown",
   "id": "refined-killing",
   "metadata": {},
   "source": [
    "Using the elbow rule described above, the optimal number of clusters might be 3, 6, or 8.\n",
    "\n",
    "### Understanding the clusters\n",
    "\n",
    "Let's train the model and check the centroids to get a better idea of what the different clusters represent."
   ]
  },
  {
   "cell_type": "code",
   "execution_count": 19,
   "id": "diverse-playlist",
   "metadata": {},
   "outputs": [
    {
     "data": {
      "text/plain": [
       "KMeans(n_clusters=6, n_init=50)"
      ]
     },
     "execution_count": 19,
     "metadata": {},
     "output_type": "execute_result"
    }
   ],
   "source": [
    "m = 6\n",
    "\n",
    "kmeans= KMeans(n_clusters=m,\n",
    "               n_init=50,\n",
    "              )\n",
    "kmeans.fit(X)"
   ]
  },
  {
   "cell_type": "markdown",
   "id": "compatible-period",
   "metadata": {},
   "source": [
    "We can get an idea of the clusters by looking at the feature importance of the cluster's centres. Since the centres are obtained as a mean of the item inside the cluster, in this way we get the mean feature importance of words over the papers included in the cluster. "
   ]
  },
  {
   "cell_type": "code",
   "execution_count": 20,
   "id": "paperback-violence",
   "metadata": {},
   "outputs": [
    {
     "name": "stdout",
     "output_type": "stream",
     "text": [
      "Cluster 0 - # of items = 377\n",
      "    - entropy : 0.248\n",
      "    - entanglement : 0.217\n",
      "    - holographic : 0.061\n",
      "    - surface : 0.041\n",
      "    - state : 0.035\n",
      "    - theory : 0.034\n",
      "    - quantum : 0.032\n",
      "    - field : 0.030\n",
      "    - gravity : 0.029\n",
      "    - renyi : 0.028\n",
      "Cluster 1 - # of items = 1357\n",
      "    - black : 0.220\n",
      "    - hole : 0.209\n",
      "    - horizon : 0.059\n",
      "    - solution : 0.049\n",
      "    - entropy : 0.032\n",
      "    - gravity : 0.030\n",
      "    - charged : 0.029\n",
      "    - ad : 0.027\n",
      "    - scalar : 0.026\n",
      "    - field : 0.026\n",
      "Cluster 2 - # of items = 7714\n",
      "    - quantum : 0.032\n",
      "    - field : 0.030\n",
      "    - model : 0.029\n",
      "    - theory : 0.025\n",
      "    - equation : 0.023\n",
      "    - function : 0.022\n",
      "    - space : 0.021\n",
      "    - system : 0.019\n",
      "    - gravity : 0.018\n",
      "    - two : 0.017\n",
      "Cluster 3 - # of items = 3235\n",
      "    - theory : 0.078\n",
      "    - string : 0.066\n",
      "    - gauge : 0.064\n",
      "    - field : 0.041\n",
      "    - model : 0.028\n",
      "    - symmetry : 0.027\n",
      "    - non : 0.027\n",
      "    - duality : 0.027\n",
      "    - branes : 0.027\n",
      "    - brane : 0.027\n",
      "Cluster 4 - # of items = 2277\n",
      "    - inflation : 0.073\n",
      "    - model : 0.061\n",
      "    - scale : 0.051\n",
      "    - dark : 0.051\n",
      "    - cosmological : 0.046\n",
      "    - field : 0.043\n",
      "    - scalar : 0.043\n",
      "    - universe : 0.040\n",
      "    - gravity : 0.036\n",
      "    - energy : 0.035\n",
      "Cluster 5 - # of items = 1713\n",
      "    - n : 0.150\n",
      "    - 2 : 0.097\n",
      "    - 1 : 0.072\n",
      "    - theory : 0.060\n",
      "    - 4 : 0.057\n",
      "    - 3 : 0.039\n",
      "    - loop : 0.037\n",
      "    - su : 0.036\n",
      "    - supersymmetric : 0.030\n",
      "    - model : 0.030\n"
     ]
    }
   ],
   "source": [
    "at.feature_importance_cluster(kmeans.cluster_centers_,kmeans.labels_,features)"
   ]
  },
  {
   "cell_type": "markdown",
   "id": "further-radius",
   "metadata": {},
   "source": [
    "Here we report the results from different choices of K (since K-means randomly initialize the clusters, repeating the above will give slightly different classes).\n",
    "\n",
    "With 3 clusters, the division of papers is quite uneven,\n",
    "- 1 big cluster with general quantum field theory papers (~ 10000)\n",
    "- 1 medium cluster with gauge theories.\n",
    "- 1 small cluster with black-hole physics/ads-cft correspondence.\n",
    "\n",
    "With 6 clusters, the division of papers is a bit better, but many papers are still in a big cluster.\n",
    "- 1 big cluster (~ 7500 papers): general quantum field theory.\n",
    "- 4 medium clusters (1000-3000 papers): gauge theories, cosmology, supersymmetry, black-hole physics.\n",
    "- 1 small cluster (~ 400 papers): ads-cft correspondence.\n",
    "\n",
    "With 8 clusters, we get some specific clusters together with general ones.\n",
    "- 2 big cluster (~ 5000 papers): general quantum field theory, gauge theory (+more?)\n",
    "- medium (~1500) : supersymmetry, black-hole physics, cosmology\n",
    "- small (< 1000): string theory, ads-cft correspondence, Yang-Mills theory (subfield of gauge theory)\n",
    "\n",
    "### Example of clustered papers\n",
    "\n",
    "We can check the papers in each clusters to see if they indeed belong to the subfield we predicted from the cluster centre. For example,"
   ]
  },
  {
   "cell_type": "code",
   "execution_count": 51,
   "id": "south-swing",
   "metadata": {},
   "outputs": [
    {
     "name": "stdout",
     "output_type": "stream",
     "text": [
      "TITLE : Wormholes and entanglement in holography\n",
      "ABS :   In this essay, we consider highly entangled states in theories with a gravity\n",
      "dual, where the entangled degrees of freedom are causally disconnected from\n",
      "each other. Using the basic rules of holography, we argue that there is a\n",
      "non-traversable wormhole in the gravity dual whose geometry encodes the pattern\n",
      "of the entanglement.\n",
      "\n"
     ]
    }
   ],
   "source": [
    "# choice of cluster\n",
    "k = 0\n",
    "\n",
    "# randomly sample the indices of papers in the cluster\n",
    "indices_k = np.arange(N)[kmeans.labels_ == k]\n",
    "index = np.random.choice(indices_k)\n",
    "\n",
    "# a random example of the paper\n",
    "print('TITLE : {}'.format(df_hep.iloc[index]['title']))\n",
    "print('ABS : {}'.format(df_hep.iloc[index]['abstract']))"
   ]
  },
  {
   "cell_type": "markdown",
   "id": "planned-ancient",
   "metadata": {},
   "source": [
    "## Hierarchical clustering\n",
    "\n",
    "Hierarchical clustering could be an additional way of making sense of the different subfields in the high energy physics section of the arXiv. With hierarchical clustering, we are aggregating small clusters together to obtain bigger ones, and in this way we can better capture the fact that several small sub-topics can all belong to the same bigger topic, and so on so forth.\n",
    "\n",
    "There are several metrics one can use to chose which clusters to merge,\n",
    "- *average* distance between clusters\n",
    "- *minumum* distance between clusters (the distance between the closest elements in the two clusters)\n",
    "- *maximum* sistance between clusters (the distance between the farthest elements in the two clusters)\n",
    "- *Ward* distance, which minimizes the within-cluster variance\n",
    "\n",
    "In this study, we tryied all these different methods, but we find that Ward distance allow for the creating of clusters of comparable size, while the other techniques, in this case, add an item to a growing cluster iteratively."
   ]
  },
  {
   "cell_type": "code",
   "execution_count": 35,
   "id": "innovative-warrior",
   "metadata": {},
   "outputs": [
    {
     "data": {
      "text/plain": [
       "AgglomerativeClustering(distance_threshold=0, n_clusters=None)"
      ]
     },
     "execution_count": 35,
     "metadata": {},
     "output_type": "execute_result"
    }
   ],
   "source": [
    "hierarchical_cluster = AgglomerativeClustering(n_clusters=None,\n",
    "                                               distance_threshold=0,\n",
    "                                               affinity = 'euclidean',\n",
    "                                               linkage = 'ward'\n",
    "                                              )\n",
    "hierarchical_cluster.fit(X.toarray())"
   ]
  },
  {
   "cell_type": "markdown",
   "id": "decent-miami",
   "metadata": {},
   "source": [
    "As a first step, we plot the dendrogram of the hierarchy of clusters here created. Since there are a large number of clusters at the beginning, we only focus on the last part of the dendogram, where big clusters are merged together."
   ]
  },
  {
   "cell_type": "code",
   "execution_count": 47,
   "id": "educational-baptist",
   "metadata": {},
   "outputs": [
    {
     "data": {
      "image/png": "[encoded data removed]",
      "text/plain": [
       "<Figure size 432x288 with 1 Axes>"
      ]
     },
     "metadata": {
      "needs_background": "light"
     },
     "output_type": "display_data"
    }
   ],
   "source": [
    "# Compute the linkage matrix to use scipy dendogram for visualizing the clustering\n",
    "linkage = at.linkage_matrix(hierarchical_cluster)\n",
    "\n",
    "# Plot the top three levels of the dendrogram\n",
    "dendrogram(linkage,truncate_mode='level',p=3,distance_sort='ascending',leaf_rotation=90)\n",
    "plt.title('Hierarchical Clustering Dendrogram')\n",
    "plt.xlabel(\"Number of points in node (or index of point if no parenthesis).\")\n",
    "plt.show()"
   ]
  },
  {
   "cell_type": "markdown",
   "id": "monthly-plasma",
   "metadata": {},
   "source": [
    "We can see that, even if the model is sucessful in creating clusters of a certain size, most of the items are still collected in a single cluster. One might assume that this is a feature of the dataset we are considering, but K-Means has already demonstrated that smaller clusters can be created that meaningfully divide the dataset.\n",
    "\n",
    "### Understanding the clusters\n",
    "\n",
    "Let's train the model to return 8 clusters, and analyse the results by taking the average of the vectorization over the items in each clusters."
   ]
  },
  {
   "cell_type": "code",
   "execution_count": 48,
   "id": "plain-sellers",
   "metadata": {},
   "outputs": [
    {
     "data": {
      "text/plain": [
       "AgglomerativeClustering(n_clusters=8)"
      ]
     },
     "execution_count": 48,
     "metadata": {},
     "output_type": "execute_result"
    }
   ],
   "source": [
    "m = 8\n",
    "\n",
    "hc_model = AgglomerativeClustering(n_clusters=m,\n",
    "                                   affinity = 'euclidean',\n",
    "                                   linkage = 'ward'\n",
    "                                  )\n",
    "hc_model.fit(X.toarray())"
   ]
  },
  {
   "cell_type": "code",
   "execution_count": 66,
   "id": "sharing-diabetes",
   "metadata": {},
   "outputs": [
    {
     "name": "stdout",
     "output_type": "stream",
     "text": [
      "Cluster 0 - # of items = 2718\n",
      "    - theory : 0.061\n",
      "    - n : 0.059\n",
      "    - gauge : 0.050\n",
      "    - 2 : 0.048\n",
      "    - 1 : 0.036\n",
      "    - spin : 0.034\n",
      "    - field : 0.034\n",
      "    - model : 0.032\n",
      "    - duality : 0.027\n",
      "    - symmetry : 0.026\n",
      "Cluster 1 - # of items = 2193\n",
      "    - model : 0.050\n",
      "    - dark : 0.043\n",
      "    - gravity : 0.036\n",
      "    - cosmological : 0.034\n",
      "    - field : 0.033\n",
      "    - theory : 0.033\n",
      "    - scale : 0.033\n",
      "    - energy : 0.031\n",
      "    - matter : 0.031\n",
      "    - scalar : 0.030\n",
      "Cluster 2 - # of items = 7971\n",
      "    - theory : 0.035\n",
      "    - field : 0.033\n",
      "    - quantum : 0.031\n",
      "    - model : 0.029\n",
      "    - space : 0.021\n",
      "    - equation : 0.021\n",
      "    - function : 0.020\n",
      "    - algebra : 0.019\n",
      "    - non : 0.019\n",
      "    - system : 0.018\n",
      "Cluster 3 - # of items = 598\n",
      "    - inflation : 0.158\n",
      "    - model : 0.066\n",
      "    - field : 0.059\n",
      "    - scale : 0.054\n",
      "    - inflaton : 0.053\n",
      "    - power : 0.050\n",
      "    - spectrum : 0.046\n",
      "    - inflationary : 0.045\n",
      "    - primordial : 0.043\n",
      "    - scalar : 0.042\n",
      "Cluster 4 - # of items = 871\n",
      "    - black : 0.210\n",
      "    - hole : 0.202\n",
      "    - horizon : 0.071\n",
      "    - entropy : 0.040\n",
      "    - kerr : 0.037\n",
      "    - solution : 0.037\n",
      "    - quantum : 0.028\n",
      "    - scalar : 0.028\n",
      "    - rotating : 0.027\n",
      "    - gravity : 0.027\n",
      "Cluster 5 - # of items = 773\n",
      "    - loop : 0.106\n",
      "    - amplitude : 0.092\n",
      "    - operator : 0.053\n",
      "    - theory : 0.046\n",
      "    - n : 0.045\n",
      "    - integral : 0.042\n",
      "    - function : 0.041\n",
      "    - point : 0.038\n",
      "    - scattering : 0.034\n",
      "    - wilson : 0.034\n",
      "Cluster 6 - # of items = 1286\n",
      "    - string : 0.073\n",
      "    - solution : 0.066\n",
      "    - brane : 0.062\n",
      "    - branes : 0.048\n",
      "    - theory : 0.040\n",
      "    - black : 0.038\n",
      "    - field : 0.031\n",
      "    - hole : 0.030\n",
      "    - model : 0.028\n",
      "    - lifshitz : 0.027\n",
      "Cluster 7 - # of items = 263\n",
      "    - entropy : 0.253\n",
      "    - entanglement : 0.232\n",
      "    - holographic : 0.066\n",
      "    - renyi : 0.046\n",
      "    - surface : 0.045\n",
      "    - theory : 0.037\n",
      "    - state : 0.034\n",
      "    - entangling : 0.034\n",
      "    - field : 0.033\n",
      "    - conformal : 0.028\n"
     ]
    }
   ],
   "source": [
    "_,p = X.shape\n",
    "\n",
    "cluster_centres = []\n",
    "\n",
    "# Create the average TF-IDF vectors for each clusters\n",
    "for l in range(hc_model.n_clusters_):\n",
    "    \n",
    "    bool_cluster = hc_model.labels_ == l\n",
    "    \n",
    "    X_cluster = X[bool_cluster]\n",
    "    cluster_centres.append(np.mean(X_cluster.toarray(),axis=0))\n",
    "\n",
    "# Plot the feature importance of the average TF-IDF vector for each cluster\n",
    "at.feature_importance_cluster(cluster_centres,hc_model.labels_,features)"
   ]
  },
  {
   "cell_type": "markdown",
   "id": "third-retrieval",
   "metadata": {},
   "source": [
    "The model is able to find similar clusters to those obtained via K-Means. by focusing on 8 clusters, we find that most of the medium-sized one are broken down in more specific ones, while the largest cluster remain quite general.\n",
    "\n",
    "- small clusters (< 1000): inflation (cosmology), Wilson loops (gauge theory), black holes, ads-cft correspondence\n",
    "- medium clusters (~ 2000-3000): gauge theory, cosmology\n",
    "- large cluster (~8000) : quantum field theory\n",
    "\n",
    "## Spectral Clustering\n",
    "\n",
    "As a last clustering technique, we use spectral clustering. In this case, we construct a similarity matrix (here we use the radial-basis function kernel to do so), and interpret is as the adjacency matrix of a weighted graph. From this matrix we can compute the Laplacian adn its eigenvalues/eigenvectors,that can be used to cluster the observation using k-Means.\n",
    "\n",
    "Note that one should first choose how many eigenvectors of the Laplacian to use. To make this choice, we consider the aigenvalues of the Laplacian, and select a reasonable number of the smallest eigenvalues. These eigenvalues are associated with the weakest connection in the graph, and as a result should indicate the presence of different clusters. "
   ]
  },
  {
   "cell_type": "code",
   "execution_count": 3,
   "id": "therapeutic-vertical",
   "metadata": {},
   "outputs": [],
   "source": [
    "# similarity matrix via radial-basis function kernel\n",
    "similarity_matrix = rbf_kernel(X, gamma=1.)\n",
    "\n",
    "# The graph Laplacian used to perform spectral clustering\n",
    "laplacian = np.diag(np.sum(similarity_matrix,axis=0)) - similarity_matrix\n",
    "\n",
    "# Eigenvalues of the graph Laplacian\n",
    "eigvals_laplacian = np.linalg.eigvalsh(laplacian)"
   ]
  },
  {
   "cell_type": "markdown",
   "id": "mathematical-government",
   "metadata": {},
   "source": [
    "Let's visualize the first 400 eigenvalues of the laplacian (but the first one, that is trivially 0),"
   ]
  },
  {
   "cell_type": "code",
   "execution_count": 7,
   "id": "linear-environment",
   "metadata": {},
   "outputs": [
    {
     "data": {
      "image/png": "[encoded data removed]",
      "text/plain": [
       "<Figure size 432x288 with 1 Axes>"
      ]
     },
     "metadata": {
      "needs_background": "light"
     },
     "output_type": "display_data"
    }
   ],
   "source": [
    "plt.plot(eigvals_laplacian[1:400])\n",
    "plt.title('Smallest eigenvalues L')\n",
    "plt.xlabel('index')\n",
    "plt.ylabel('eigenvalue')\n",
    "plt.show()"
   ]
  },
  {
   "cell_type": "markdown",
   "id": "lesbian-colon",
   "metadata": {},
   "source": [
    "Since the similarity matrix is constructed using a radial-basis kernel, we cannot expect to have multiple components whose nodes are only connected with each others. As a result, only one eigenvalue of the Laplacian is equal to 0, and the others are positive.\n",
    "\n",
    "The idea is that smaller eigenvalues identify weakly connected components, while bigger eigenvalues identify strongly connected ones. Based on this, we select the first 50 eigenvectors of the Laplacian to perform spectral clustering."
   ]
  },
  {
   "cell_type": "code",
   "execution_count": 9,
   "id": "fantastic-community",
   "metadata": {},
   "outputs": [
    {
     "data": {
      "text/plain": [
       "SpectralClustering(affinity='precomputed', n_components=50, random_state=2763)"
      ]
     },
     "execution_count": 9,
     "metadata": {},
     "output_type": "execute_result"
    }
   ],
   "source": [
    "m = 8\n",
    "\n",
    "spectral_model = SpectralClustering(n_clusters=m,\n",
    "                                    n_components=50,\n",
    "                                    affinity='precomputed',\n",
    "                                    random_state=2763,\n",
    "                                    assign_labels='kmeans'\n",
    "                                   )\n",
    "\n",
    "spectral_model.fit(similarity_matrix)"
   ]
  },
  {
   "cell_type": "markdown",
   "id": "sixth-spelling",
   "metadata": {},
   "source": [
    "In theory, spectral clustering is especially helpful in those situations where the clusters are non-convex. This is not expected to be the case here really, but it is still interesting to see how the model clusters the data.\n",
    "\n",
    "### Understanding the clusters\n",
    "\n",
    "To get an idea of the clusters, we still take the average of the TF-IDF vectors of the entries of each clusters. Notice that this is not a good idea if indeed the clusters are non-convex, but I cannot think of another way to get the general features of the clusters otherwise."
   ]
  },
  {
   "cell_type": "code",
   "execution_count": 13,
   "id": "temporal-export",
   "metadata": {},
   "outputs": [
    {
     "name": "stdout",
     "output_type": "stream",
     "text": [
      "Cluster 0 - # of items = 3123\n",
      "    - model : 0.090\n",
      "    - gauge : 0.044\n",
      "    - theory : 0.043\n",
      "    - n : 0.031\n",
      "    - symmetry : 0.030\n",
      "    - field : 0.029\n",
      "    - mass : 0.027\n",
      "    - 2 : 0.026\n",
      "    - qcd : 0.025\n",
      "    - yang : 0.025\n",
      "Cluster 1 - # of items = 2310\n",
      "    - quantum : 0.083\n",
      "    - algebra : 0.066\n",
      "    - operator : 0.054\n",
      "    - theory : 0.046\n",
      "    - state : 0.037\n",
      "    - field : 0.032\n",
      "    - chern : 0.029\n",
      "    - simon : 0.029\n",
      "    - n : 0.027\n",
      "    - space : 0.024\n",
      "Cluster 2 - # of items = 442\n",
      "    - amplitude : 0.237\n",
      "    - scattering : 0.096\n",
      "    - loop : 0.092\n",
      "    - n : 0.058\n",
      "    - tree : 0.052\n",
      "    - theory : 0.048\n",
      "    - level : 0.038\n",
      "    - 4 : 0.037\n",
      "    - point : 0.033\n",
      "    - string : 0.032\n",
      "Cluster 3 - # of items = 8207\n",
      "    - theory : 0.039\n",
      "    - field : 0.034\n",
      "    - solution : 0.024\n",
      "    - space : 0.022\n",
      "    - string : 0.022\n",
      "    - 2 : 0.021\n",
      "    - equation : 0.021\n",
      "    - gravity : 0.021\n",
      "    - function : 0.021\n",
      "    - non : 0.019\n",
      "Cluster 4 - # of items = 341\n",
      "    - dark : 0.274\n",
      "    - matter : 0.120\n",
      "    - energy : 0.110\n",
      "    - model : 0.069\n",
      "    - cosmological : 0.052\n",
      "    - universe : 0.051\n",
      "    - scalar : 0.033\n",
      "    - scale : 0.030\n",
      "    - parameter : 0.030\n",
      "    - density : 0.030\n",
      "Cluster 5 - # of items = 1149\n",
      "    - black : 0.236\n",
      "    - hole : 0.224\n",
      "    - horizon : 0.060\n",
      "    - solution : 0.049\n",
      "    - charged : 0.030\n",
      "    - entropy : 0.028\n",
      "    - scalar : 0.028\n",
      "    - gravity : 0.028\n",
      "    - ad : 0.026\n",
      "    - extremal : 0.026\n",
      "Cluster 6 - # of items = 751\n",
      "    - inflation : 0.203\n",
      "    - model : 0.070\n",
      "    - inflationary : 0.060\n",
      "    - inflaton : 0.060\n",
      "    - field : 0.059\n",
      "    - scale : 0.054\n",
      "    - scalar : 0.047\n",
      "    - perturbation : 0.044\n",
      "    - potential : 0.040\n",
      "    - power : 0.036\n",
      "Cluster 7 - # of items = 350\n",
      "    - entropy : 0.270\n",
      "    - entanglement : 0.218\n",
      "    - holographic : 0.061\n",
      "    - surface : 0.040\n",
      "    - theory : 0.036\n",
      "    - renyi : 0.033\n",
      "    - field : 0.032\n",
      "    - black : 0.031\n",
      "    - gravity : 0.031\n",
      "    - quantum : 0.031\n"
     ]
    }
   ],
   "source": [
    "_,p = X.shape\n",
    "\n",
    "cluster_centres = []\n",
    "\n",
    "# Create the average TF-IDF vectors for each clusters\n",
    "for l in range(m):\n",
    "    \n",
    "    bool_cluster = spectral_model.labels_ == l\n",
    "    \n",
    "    X_cluster = X[bool_cluster]\n",
    "    cluster_centres.append(np.mean(X_cluster.toarray(),axis=0))\n",
    "\n",
    "# Plot the feature importance of the average TF-IDF vector for each cluster\n",
    "at.feature_importance_cluster(cluster_centres,spectral_model.labels_,features)"
   ]
  },
  {
   "cell_type": "markdown",
   "id": "legal-agenda",
   "metadata": {},
   "source": [
    "# Predicting and clustering"
   ]
  },
  {
   "cell_type": "code",
   "execution_count": null,
   "id": "vulnerable-variable",
   "metadata": {},
   "outputs": [],
   "source": []
  }
 ],
 "metadata": {
  "kernelspec": {
   "display_name": "Python [conda env:arxiv_env]",
   "language": "python",
   "name": "conda-env-arxiv_env-py"
  },
  "language_info": {
   "codemirror_mode": {
    "name": "ipython",
    "version": 3
   },
   "file_extension": ".py",
   "mimetype": "text/x-python",
   "name": "python",
   "nbconvert_exporter": "python",
   "pygments_lexer": "ipython3",
   "version": "3.7.9"
  }
 },
 "nbformat": 4,
 "nbformat_minor": 5
}
